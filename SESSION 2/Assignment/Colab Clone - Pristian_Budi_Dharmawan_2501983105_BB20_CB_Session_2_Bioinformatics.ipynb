{
  "cells": [
    {
      "cell_type": "markdown",
      "metadata": {
        "id": "8g4LM-yLRnLB"
      },
      "source": [
        "## Exercise Session 2"
      ]
    },
    {
      "cell_type": "markdown",
      "metadata": {
        "id": "tMBHUYChRnLC"
      },
      "source": [
        "### Excersise PPT Example\n",
        "\n",
        "#### Tasks\n",
        "1. Which of the following sequence will have the highest GC?\n",
        "2. Which of the sequence will have the higher melting temperature\n",
        "3. Which of the sequence will have the highest Molecular Weight\n",
        "\n",
        "#### Sequence\n",
        "+ Sequence 1 = 'ATGCATGGTGCGCGA'\n",
        "+ Sequence 2 = 'ATTTGTGCTCCTGGA'"
      ]
    },
    {
      "cell_type": "markdown",
      "metadata": {
        "id": "Z2H2k2B1RnLD"
      },
      "source": [
        "##### Answer"
      ]
    },
    {
      "cell_type": "code",
      "execution_count": null,
      "metadata": {
        "colab": {
          "base_uri": "https://localhost:8080/"
        },
        "id": "W7TUiZgdRnLD",
        "outputId": "26a8298e-bdbf-4ba4-d24b-6fddbeb5f0fa"
      },
      "outputs": [
        {
          "output_type": "stream",
          "name": "stdout",
          "text": [
            "Looking in indexes: https://pypi.org/simple, https://us-python.pkg.dev/colab-wheels/public/simple/\n",
            "Collecting biopython\n",
            "  Downloading biopython-1.81-cp38-cp38-manylinux_2_17_x86_64.manylinux2014_x86_64.whl (3.1 MB)\n",
            "\u001b[2K     \u001b[90m━━━━━━━━━━━━━━━━━━━━━━━━━━━━━━━━━━━━━━━━\u001b[0m \u001b[32m3.1/3.1 MB\u001b[0m \u001b[31m26.3 MB/s\u001b[0m eta \u001b[36m0:00:00\u001b[0m\n",
            "\u001b[?25hRequirement already satisfied: numpy in /usr/local/lib/python3.8/dist-packages (from biopython) (1.22.4)\n",
            "Installing collected packages: biopython\n",
            "Successfully installed biopython-1.81\n"
          ]
        }
      ],
      "source": [
        "%pip install biopython\n",
        "from Bio.Seq import Seq\n",
        "from Bio.SeqUtils import GC\n",
        "from Bio.SeqUtils import MeltingTemp as mt\n",
        "from Bio.SeqUtils import molecular_weight"
      ]
    },
    {
      "cell_type": "code",
      "execution_count": null,
      "metadata": {
        "id": "93fBcaLsRnLE"
      },
      "outputs": [],
      "source": [
        "def at_content(seq):\n",
        "    result = float(seq.count('A') + seq.count('T'))/len(seq) * 100\n",
        "    return result"
      ]
    },
    {
      "cell_type": "code",
      "execution_count": null,
      "metadata": {
        "id": "4mzQhigzRnLF"
      },
      "outputs": [],
      "source": [
        "ex1 = Seq('ATGCATGGTGCGCGA')\n",
        "ex2 = Seq('ATTTGTGCTCCTGGA')"
      ]
    },
    {
      "cell_type": "code",
      "execution_count": null,
      "metadata": {
        "id": "b3nosgqvRnLF"
      },
      "outputs": [],
      "source": [
        "def get_metrics(seq):\n",
        "    gc = GC(seq)\n",
        "    at = at_content(seq)\n",
        "    melting = mt.Tm_GC(seq)\n",
        "    weight = molecular_weight(seq)\n",
        "    result = \"GC:{}, AT:{}, Temp:{}, Weight:{}\".format(gc,at,melting,weight)\n",
        "    return result"
      ]
    },
    {
      "cell_type": "markdown",
      "metadata": {
        "id": "_gjJYLL-RnLF"
      },
      "source": [
        "##### GC Value"
      ]
    },
    {
      "cell_type": "code",
      "execution_count": null,
      "metadata": {
        "colab": {
          "base_uri": "https://localhost:8080/"
        },
        "id": "EbItN3WMRnLG",
        "outputId": "449c3526-ccfa-4efe-a17e-edf7b8d6b223"
      },
      "outputs": [
        {
          "output_type": "stream",
          "name": "stderr",
          "text": [
            "/usr/local/lib/python3.8/dist-packages/Bio/SeqUtils/__init__.py:144: BiopythonDeprecationWarning: GC is deprecated; please use gc_fraction instead.\n",
            "  warnings.warn(\n"
          ]
        },
        {
          "output_type": "execute_result",
          "data": {
            "text/plain": [
              "60.0"
            ]
          },
          "metadata": {},
          "execution_count": 5
        }
      ],
      "source": [
        "gc_ex1 = GC(ex1)\n",
        "gc_ex1"
      ]
    },
    {
      "cell_type": "code",
      "execution_count": null,
      "metadata": {
        "colab": {
          "base_uri": "https://localhost:8080/"
        },
        "id": "E31K0eUGRnLG",
        "outputId": "088b09a9-1ae7-4dbe-b1be-d688b1f490c0"
      },
      "outputs": [
        {
          "output_type": "execute_result",
          "data": {
            "text/plain": [
              "46.666666666666664"
            ]
          },
          "metadata": {},
          "execution_count": 6
        }
      ],
      "source": [
        "gc_ex2 = GC(ex2)\n",
        "gc_ex2"
      ]
    },
    {
      "cell_type": "markdown",
      "metadata": {
        "id": "lpqFuNWRRnLG"
      },
      "source": [
        "#### AT Value"
      ]
    },
    {
      "cell_type": "code",
      "execution_count": null,
      "metadata": {
        "colab": {
          "base_uri": "https://localhost:8080/"
        },
        "id": "iu6UQ_-mRnLH",
        "outputId": "ae6e27fd-81ee-4fcd-a31a-caa5b034a5a3"
      },
      "outputs": [
        {
          "output_type": "execute_result",
          "data": {
            "text/plain": [
              "40.0"
            ]
          },
          "metadata": {},
          "execution_count": 7
        }
      ],
      "source": [
        "at_ex1 = at_content(ex1)\n",
        "at_ex1"
      ]
    },
    {
      "cell_type": "code",
      "execution_count": null,
      "metadata": {
        "colab": {
          "base_uri": "https://localhost:8080/"
        },
        "id": "kur3Ozl7RnLH",
        "outputId": "fb46a69f-4fc6-438a-f17d-033b4c805aea"
      },
      "outputs": [
        {
          "output_type": "execute_result",
          "data": {
            "text/plain": [
              "53.333333333333336"
            ]
          },
          "metadata": {},
          "execution_count": 8
        }
      ],
      "source": [
        "at_ex2 = at_content(ex2)\n",
        "at_ex2"
      ]
    },
    {
      "cell_type": "markdown",
      "metadata": {
        "id": "q7sHP8-RRnLH"
      },
      "source": [
        "##### Melting Temperature"
      ]
    },
    {
      "cell_type": "code",
      "execution_count": null,
      "metadata": {
        "colab": {
          "base_uri": "https://localhost:8080/"
        },
        "id": "pvGr-H08RnLI",
        "outputId": "6756b70c-0b27-4e42-8016-8941c734bbc7"
      },
      "outputs": [
        {
          "output_type": "execute_result",
          "data": {
            "text/plain": [
              "44.5029020719779"
            ]
          },
          "metadata": {},
          "execution_count": 9
        }
      ],
      "source": [
        "mt.Tm_Wallace(ex1)\n",
        "mt_ex1 = mt.Tm_GC(ex1)\n",
        "mt_ex1"
      ]
    },
    {
      "cell_type": "code",
      "execution_count": null,
      "metadata": {
        "colab": {
          "base_uri": "https://localhost:8080/"
        },
        "id": "izj9M0agRnLI",
        "outputId": "1023772c-3f9d-4497-f207-153cb5cfa4d5"
      },
      "outputs": [
        {
          "output_type": "execute_result",
          "data": {
            "text/plain": [
              "39.03623540531123"
            ]
          },
          "metadata": {},
          "execution_count": 10
        }
      ],
      "source": [
        "mt.Tm_Wallace(ex2)\n",
        "mt_ex2 = mt.Tm_GC(ex2)\n",
        "mt_ex2"
      ]
    },
    {
      "cell_type": "markdown",
      "metadata": {
        "id": "6kPsVCs0RnLI"
      },
      "source": [
        "#### Molecular Weight"
      ]
    },
    {
      "cell_type": "code",
      "execution_count": null,
      "metadata": {
        "colab": {
          "base_uri": "https://localhost:8080/"
        },
        "id": "EEUuHpLfRnLI",
        "outputId": "0736d9b1-7622-4c8e-8abd-773ea4a99422"
      },
      "outputs": [
        {
          "output_type": "execute_result",
          "data": {
            "text/plain": [
              "4712.995199999999"
            ]
          },
          "metadata": {},
          "execution_count": 11
        }
      ],
      "source": [
        "mw_ex1 = molecular_weight(ex1)\n",
        "mw_ex1"
      ]
    },
    {
      "cell_type": "code",
      "execution_count": null,
      "metadata": {
        "colab": {
          "base_uri": "https://localhost:8080/"
        },
        "id": "1ZXqEn0sRnLJ",
        "outputId": "206ff408-be03-4da2-ee90-7f77a3ce2eec"
      },
      "outputs": [
        {
          "output_type": "execute_result",
          "data": {
            "text/plain": [
              "4653.9565"
            ]
          },
          "metadata": {},
          "execution_count": 12
        }
      ],
      "source": [
        "mw_ex2 = molecular_weight(ex2)\n",
        "mw_ex2"
      ]
    },
    {
      "cell_type": "markdown",
      "metadata": {
        "id": "7J-elVeoRnLJ"
      },
      "source": [
        "#### Final Answer"
      ]
    },
    {
      "cell_type": "code",
      "execution_count": null,
      "metadata": {
        "colab": {
          "base_uri": "https://localhost:8080/",
          "height": 35
        },
        "id": "ks_VgG0bRnLJ",
        "outputId": "490062da-3e92-4053-c41c-4d4bb905894d"
      },
      "outputs": [
        {
          "output_type": "execute_result",
          "data": {
            "text/plain": [
              "'GC:60.0, AT:40.0, Temp:44.5029020719779, Weight:4712.995199999999'"
            ],
            "application/vnd.google.colaboratory.intrinsic+json": {
              "type": "string"
            }
          },
          "metadata": {},
          "execution_count": 13
        }
      ],
      "source": [
        "get_metrics(ex1)"
      ]
    },
    {
      "cell_type": "code",
      "execution_count": null,
      "metadata": {
        "colab": {
          "base_uri": "https://localhost:8080/",
          "height": 35
        },
        "id": "cD873qlLRnLJ",
        "outputId": "6250dc6e-8374-4c7c-b803-d343f36df0fe"
      },
      "outputs": [
        {
          "output_type": "execute_result",
          "data": {
            "text/plain": [
              "'GC:46.666666666666664, AT:53.333333333333336, Temp:39.03623540531123, Weight:4653.9565'"
            ],
            "application/vnd.google.colaboratory.intrinsic+json": {
              "type": "string"
            }
          },
          "metadata": {},
          "execution_count": 14
        }
      ],
      "source": [
        "get_metrics(ex2)"
      ]
    },
    {
      "cell_type": "markdown",
      "metadata": {
        "id": "SvJwJn8cRnLJ"
      },
      "source": [
        "#### Answer for the tasks"
      ]
    },
    {
      "cell_type": "code",
      "execution_count": null,
      "metadata": {
        "colab": {
          "base_uri": "https://localhost:8080/"
        },
        "id": "rZ4PuLQ-RnLJ",
        "outputId": "11f5d5b8-5d36-4c15-c9b9-55d2dc36e66e"
      },
      "outputs": [
        {
          "output_type": "stream",
          "name": "stdout",
          "text": [
            "GC Value of Seq 1 is bigger than Seq 2\n"
          ]
        }
      ],
      "source": [
        "# 1. Which of the following sequence will have the highest GC?\n",
        "if gc_ex1 > gc_ex2:\n",
        "    print(\"GC Value of Seq 1 is bigger than Seq 2\")\n",
        "else:\n",
        "    print(\"GC Value of Seq 2 is bigger than Seq 1\")"
      ]
    },
    {
      "cell_type": "code",
      "execution_count": null,
      "metadata": {
        "colab": {
          "base_uri": "https://localhost:8080/"
        },
        "id": "wMcPIXnaRnLK",
        "outputId": "5d1e90cc-4ce8-417a-81bb-f358a3dea3fe"
      },
      "outputs": [
        {
          "output_type": "stream",
          "name": "stdout",
          "text": [
            "Melting Temperature Value of Seq 1 is bigger than Seq 2\n"
          ]
        }
      ],
      "source": [
        "# 2. Which of the sequence will have the higher melting temperature\n",
        "if mt_ex1 > mt_ex2:\n",
        "    print(\"Melting Temperature Value of Seq 1 is bigger than Seq 2\")\n",
        "else:\n",
        "    print(\"Melting Temperature Value of Seq 2 is bigger than Seq 1\")"
      ]
    },
    {
      "cell_type": "code",
      "execution_count": null,
      "metadata": {
        "colab": {
          "base_uri": "https://localhost:8080/"
        },
        "id": "mt9uOzc4RnLK",
        "outputId": "719ff10a-ec78-4a3c-8b3a-c89836b80184"
      },
      "outputs": [
        {
          "output_type": "stream",
          "name": "stdout",
          "text": [
            "Seq 1 is heavier than Seq 2\n"
          ]
        }
      ],
      "source": [
        "# 3. Which of the sequence will have the highest Molecular Weight\n",
        "if mw_ex1 > mw_ex2:\n",
        "    print(\"Seq 1 is heavier than Seq 2\")\n",
        "else:\n",
        "    print(\"Seq 2 is heavier than Seq 1\")"
      ]
    },
    {
      "cell_type": "markdown",
      "metadata": {
        "id": "5adRvBmbRnLK"
      },
      "source": [
        "### Exercise WGS Example\n",
        "\n",
        "#### Tasks\n",
        "1. Calculate the temperature of AT and CG\n",
        "2. Calculate the molecular weight of AT and CG\n",
        "\n",
        "#### Sequence\n",
        "+ Sequence = https://www.ncbi.nlm.nih.gov/genbank/examples.wgs/#partialcds"
      ]
    },
    {
      "cell_type": "code",
      "execution_count": null,
      "metadata": {
        "colab": {
          "base_uri": "https://localhost:8080/"
        },
        "id": "nHgT20zTRnLK",
        "outputId": "5c29956e-951e-492d-b921-39c95ea51b9c"
      },
      "outputs": [
        {
          "output_type": "stream",
          "name": "stdout",
          "text": [
            "Looking in indexes: https://pypi.org/simple, https://us-python.pkg.dev/colab-wheels/public/simple/\n",
            "Requirement already satisfied: biopython in /usr/local/lib/python3.8/dist-packages (1.81)\n",
            "Requirement already satisfied: numpy in /usr/local/lib/python3.8/dist-packages (from biopython) (1.22.4)\n"
          ]
        }
      ],
      "source": [
        "%pip install biopython\n",
        "from Bio.Seq import Seq\n",
        "from Bio.SeqUtils import GC\n",
        "from Bio.SeqUtils import MeltingTemp as mt\n",
        "from Bio.SeqUtils import molecular_weight"
      ]
    },
    {
      "cell_type": "code",
      "execution_count": null,
      "metadata": {
        "id": "uajhjW15RnLK"
      },
      "outputs": [],
      "source": [
        "def at_content(seq):\n",
        "    result = float(seq.count('A') + seq.count('T'))/len(seq) * 100\n",
        "    return result"
      ]
    },
    {
      "cell_type": "code",
      "execution_count": null,
      "metadata": {
        "id": "0N9_3xKtRnLK"
      },
      "outputs": [],
      "source": [
        "WGS = Seq('TGcaaagtGGAATTCCAATTTCAACACCAGTTTTTGATGGCGCAAAAGAGCAAGATGTAACAAATATGTTAGAGCTTGCATCATTACCAAAATCTGGTCAAACAAAATTGTGGGATGGTAGAACAGGTGAAAAATTTGATAGAGAAGTCACAGTTGGCACTATTTATATGTTAAAATTACACCATCTTGTAGAAGATAAAATACACGCAAGATCTACAGGTCCTTATAGTTTAGTTACACAACAACCTCTTGGTGGTAAGGCTCAATTGGGAGGTCAACGATTTGGAGAAATGGAAGTTTGGGCTCTGGAAGCTTATGGGGCTTCTTATACTTTACAAGAAATTTTAACAGTAAAATCTGATGATGTTGCTGGTAGAGTTAAAGTTTATGAAACAATAGTAAAAGGTGAAGAGAATTTCGAGTCAGGAATACCTGAGTCATTTAATGTTTTAGTAAAAGAAATCAAAGCGCTAGCTCTTAATGTGGAGTTAAATTAAAATGAAAAAAGATATTAAAGATTTTTTTAAAGAAACTGCCATATCAGACTCTCAAAATTTTAATAGTATTAAAATTACTTTAGCAAGCCCTGAAAAGATAAAGTCATGGACTTATGGAGAAATAAAAAAACCCGAAACTATTAATTATAGAACTTTCAGACCTGAAAAAGACGGCCTATTTTGTGCGAGAATATTTGGTCCAATAAAAGATTACGAATGTTTATGTGGAAAATATAAAAGAATGAAGTTCAGAGGAATTATTTGTGAGAAGTGTGGCGTAGAGGTTACTAAATCAAATGTTCGTAGAGAAAGAATGGGGCACATCAATTTATCAACCCCAGTTGCACATATTTGGTTTTTAAAATCTTTACCAAGTAGAATTTCACTAGCTATTGATATGAAGCTTAAAGAGGTTGAAAGAGTTCTATACTTTGAAAGTTTTATTGTTATAGAGCCTGGATTAACTAGTCTTAAAAAAAATCAACTTTTAAACGAAGATGAATTAAATAAATATCAAGAGGAGTTTGGTGAAGAATCCTTTACTGCAGGAATAGGAGCAGAGGCGATACTAGAGATTTTAAAATCTATAGACTTGAATAAAGAGAGAGAAATTTTATTAAAAAATATAAATGAGACAAAATCAAAGGTTGCTGAAGAAAGATCTATAAAAAGATTAAAACTGATCGATTCATTTATTGAAACTGGTAACAAACCAGAATGGATGATTTTAACTACTATACCTGTAATACCACCAGAGTTAAGGCCACTTGTTCCTCTAGATGGAGGTAGATTTGCAACATCAGATCTAAACGATTTGTATAGAAGAGTTATAAATAGAAATAATAGATTGAAAAGATTAATGGATCTTAAAGCTCCAGATATAATTATTAGAAATGAAAAACGAATGTTGCAAGAGTCAGTGGATGCTTTATTCGATAATGGCAGAAGAGGCAGAGTAATTACAGGAACTGGTAAACGTCCATTAAAATCTTTGGCTGAAATGCTTAAAGGAaaacaaG')"
      ]
    },
    {
      "cell_type": "code",
      "execution_count": null,
      "metadata": {
        "id": "zONsPcCXRnLL"
      },
      "outputs": [],
      "source": [
        "def get_metrics(seq):\n",
        "    gc = GC(seq)\n",
        "    at = at_content(seq)\n",
        "    melting = mt.Tm_GC(seq)\n",
        "    weight = molecular_weight(seq)\n",
        "    result = \"GC:{}, AT:{}, Temp:{}, Weight:{}\".format(gc,at,melting,weight)\n",
        "    return result"
      ]
    },
    {
      "cell_type": "markdown",
      "metadata": {
        "id": "dyJ6h8T0RnLL"
      },
      "source": [
        "##### GC Value"
      ]
    },
    {
      "cell_type": "code",
      "execution_count": null,
      "metadata": {
        "colab": {
          "base_uri": "https://localhost:8080/"
        },
        "id": "9PnigEG7RnLL",
        "outputId": "38724abe-8ef7-4b43-843c-af5e6744da0d"
      },
      "outputs": [
        {
          "output_type": "execute_result",
          "data": {
            "text/plain": [
              "32.05804749340369"
            ]
          },
          "metadata": {},
          "execution_count": 22
        }
      ],
      "source": [
        "gc_WGS = GC(WGS)\n",
        "gc_WGS"
      ]
    },
    {
      "cell_type": "markdown",
      "metadata": {
        "id": "XyB2BOJ-RnLL"
      },
      "source": [
        "#### AT Value"
      ]
    },
    {
      "cell_type": "code",
      "execution_count": null,
      "metadata": {
        "colab": {
          "base_uri": "https://localhost:8080/"
        },
        "id": "PeoPtPHjRnLL",
        "outputId": "59fe1bb9-7d68-48bc-99c2-a57249dec27b"
      },
      "outputs": [
        {
          "output_type": "execute_result",
          "data": {
            "text/plain": [
              "67.34828496042216"
            ]
          },
          "metadata": {},
          "execution_count": 23
        }
      ],
      "source": [
        "at_WGS = at_content(WGS)\n",
        "at_WGS"
      ]
    },
    {
      "cell_type": "markdown",
      "metadata": {
        "id": "CbeM7M7TRnLL"
      },
      "source": [
        "##### Melting Temperature"
      ]
    },
    {
      "cell_type": "code",
      "execution_count": null,
      "metadata": {
        "colab": {
          "base_uri": "https://localhost:8080/"
        },
        "id": "z9J2iPIdRnLL",
        "outputId": "dab370c6-c33a-422b-cf0a-47baf0d5fdf1"
      },
      "outputs": [
        {
          "output_type": "execute_result",
          "data": {
            "text/plain": [
              "72.65092318015732"
            ]
          },
          "metadata": {},
          "execution_count": 24
        }
      ],
      "source": [
        "mt.Tm_Wallace(WGS)\n",
        "mt_WGS = mt.Tm_GC(WGS)\n",
        "mt_WGS"
      ]
    },
    {
      "cell_type": "markdown",
      "metadata": {
        "id": "YXTZEZcrRnLL"
      },
      "source": [
        "#### Molecular Weight"
      ]
    },
    {
      "cell_type": "code",
      "execution_count": null,
      "metadata": {
        "colab": {
          "base_uri": "https://localhost:8080/"
        },
        "id": "y-x2z8JdRnLL",
        "outputId": "9c1f2632-d316-4648-ec3b-aaf870b57e0e"
      },
      "outputs": [
        {
          "output_type": "execute_result",
          "data": {
            "text/plain": [
              "471222.4697000047"
            ]
          },
          "metadata": {},
          "execution_count": 25
        }
      ],
      "source": [
        "mw_WGS = molecular_weight(WGS)\n",
        "mw_WGS"
      ]
    },
    {
      "cell_type": "markdown",
      "metadata": {
        "id": "iFtnSHWeRnLL"
      },
      "source": [
        "#### Final Answer"
      ]
    },
    {
      "cell_type": "code",
      "execution_count": null,
      "metadata": {
        "colab": {
          "base_uri": "https://localhost:8080/",
          "height": 35
        },
        "id": "xfTuMKyNRnLM",
        "outputId": "448d6e9c-29ed-44bd-a0fe-6eb7666d86ff"
      },
      "outputs": [
        {
          "output_type": "execute_result",
          "data": {
            "text/plain": [
              "'GC:32.05804749340369, AT:67.34828496042216, Temp:72.65092318015732, Weight:471222.4697000047'"
            ],
            "application/vnd.google.colaboratory.intrinsic+json": {
              "type": "string"
            }
          },
          "metadata": {},
          "execution_count": 26
        }
      ],
      "source": [
        "get_metrics(WGS)"
      ]
    }
  ],
  "metadata": {
    "kernelspec": {
      "display_name": "Python 3",
      "language": "python",
      "name": "python3"
    },
    "language_info": {
      "codemirror_mode": {
        "name": "ipython",
        "version": 3
      },
      "file_extension": ".py",
      "mimetype": "text/x-python",
      "name": "python",
      "nbconvert_exporter": "python",
      "pygments_lexer": "ipython3",
      "version": "3.9.13"
    },
    "orig_nbformat": 4,
    "vscode": {
      "interpreter": {
        "hash": "fe9ed5a463d6968111624e62661d8d7a0b818e3dd3c7371f5d6823b76f08ea3d"
      }
    },
    "colab": {
      "provenance": []
    }
  },
  "nbformat": 4,
  "nbformat_minor": 0
}