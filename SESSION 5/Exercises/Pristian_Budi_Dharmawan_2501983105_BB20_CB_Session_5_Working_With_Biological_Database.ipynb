{
  "nbformat": 4,
  "nbformat_minor": 0,
  "metadata": {
    "colab": {
      "provenance": []
    },
    "kernelspec": {
      "name": "python3",
      "display_name": "Python 3"
    },
    "language_info": {
      "name": "python"
    }
  },
  "cells": [
    {
      "cell_type": "markdown",
      "source": [
        "# Collecting Data for Research"
      ],
      "metadata": {
        "id": "kfHotvtBvbeU"
      }
    },
    {
      "cell_type": "code",
      "execution_count": null,
      "metadata": {
        "colab": {
          "base_uri": "https://localhost:8080/"
        },
        "id": "PJ-koVTQu6tH",
        "outputId": "171b9d14-a8eb-422e-af35-981673751095"
      },
      "outputs": [
        {
          "output_type": "stream",
          "name": "stdout",
          "text": [
            "Looking in indexes: https://pypi.org/simple, https://us-python.pkg.dev/colab-wheels/public/simple/\n",
            "Collecting biopython\n",
            "  Downloading biopython-1.81-cp310-cp310-manylinux_2_17_x86_64.manylinux2014_x86_64.whl (3.1 MB)\n",
            "\u001b[2K     \u001b[90m━━━━━━━━━━━━━━━━━━━━━━━━━━━━━━━━━━━━━━━━\u001b[0m \u001b[32m3.1/3.1 MB\u001b[0m \u001b[31m74.4 MB/s\u001b[0m eta \u001b[36m0:00:00\u001b[0m\n",
            "\u001b[?25hRequirement already satisfied: numpy in /usr/local/lib/python3.10/dist-packages (from biopython) (1.22.4)\n",
            "Installing collected packages: biopython\n",
            "Successfully installed biopython-1.81\n",
            "<class 'Bio.Entrez.Parser.DictionaryElement'>\n",
            "dict_keys(['Database', 'Query', 'CorrectedQuery', 'SpelledQuery'])\n",
            "Database : pmc\n",
            "Query : biopythonn\n",
            "CorrectedQuery : biopython\n",
            "SpelledQuery : ['', 'biopython']\n"
          ]
        }
      ],
      "source": [
        "# Spelling correction\n",
        "%pip install biopython\n",
        "from Bio import Entrez\n",
        "Entrez.email = 'learnbiopython@gmail.com'\n",
        "sciNames = ['Bos gaurus']\n",
        "\n",
        "# Lists every data\n",
        "record = Entrez.read(Entrez.espell(db='pmc', term='biopythonn'))\n",
        "print(type(record))\n",
        "print(record.keys())\n",
        "for key in record.keys():\n",
        "    print(key, ':', record[key])\n",
        "\n"
      ]
    },
    {
      "cell_type": "code",
      "source": [
        "# Research Collection\n",
        "record = Entrez.read(Entrez.esearch(db='pmc', term='biopython', retmax=100))\n",
        "print(type(record))\n",
        "print(record.keys())\n",
        "for key in record.keys():\n",
        "    print(key, ':', record[key])\n",
        "biopythonID = record['IdList']\n",
        "print(biopythonID)"
      ],
      "metadata": {
        "colab": {
          "base_uri": "https://localhost:8080/"
        },
        "id": "26NqOw-evXhb",
        "outputId": "2fcd4aeb-6446-4244-ce90-5dbe1fe19ffb"
      },
      "execution_count": null,
      "outputs": [
        {
          "output_type": "stream",
          "name": "stdout",
          "text": [
            "<class 'Bio.Entrez.Parser.DictionaryElement'>\n",
            "dict_keys(['Count', 'RetMax', 'RetStart', 'IdList', 'TranslationSet', 'TranslationStack', 'QueryTranslation'])\n",
            "Count : 2894\n",
            "RetMax : 100\n",
            "RetStart : 0\n",
            "IdList : ['10256225', '10254443', '10254083', '10250245', '10250203', '10241889', '10241417', '10238937', '10235069', '10232014', '10227427', '10227399', '10224666', '10221840', '10219788', '10219531', '10215675', '10251718', '10249658', '10246253', '10243083', '10234545', '10227362', '10221105', '10216779', '10204868', '10204111', '10203616', '10201985', '10199479', '10198650', '10198438', '10187174', '10185341', '10169335', '10169329', '10168271', '10159843', '10158992', '10153705', '10153118', '10148868', '10148629', '10145048', '10143361', '10134851', '10131221', '10123101', '10120676', '10105235', '10104372', '10104344', '10100218', '10083194', '10072491', '10070815', '10070360', '10070209', '10066034', '10060750', '10055274', '10055226', '10053088', '10049856', '10049292', '10028922', '10028825', '10028787', '10026720', '10003719', '9992841', '9988707', '9983073', '9977097', '9974263', '9973847', '9973303', '9971809', '9967988', '9958100', '9949269', '9949116', '9948713', '9946446', '9650269', '9943676', '9942591', '9937996', '9934365', '9933670', '9933645', '9931576', '9928471', '9917336', '9915273', '9899208', '9898917', '9883684', '10203375', '10199778']\n",
            "TranslationSet : []\n",
            "TranslationStack : [{'Term': 'biopython[All Fields]', 'Field': 'All Fields', 'Count': '2915', 'Explode': 'N'}, 'GROUP']\n",
            "QueryTranslation : biopython[All Fields]\n",
            "['10256225', '10254443', '10254083', '10250245', '10250203', '10241889', '10241417', '10238937', '10235069', '10232014', '10227427', '10227399', '10224666', '10221840', '10219788', '10219531', '10215675', '10251718', '10249658', '10246253', '10243083', '10234545', '10227362', '10221105', '10216779', '10204868', '10204111', '10203616', '10201985', '10199479', '10198650', '10198438', '10187174', '10185341', '10169335', '10169329', '10168271', '10159843', '10158992', '10153705', '10153118', '10148868', '10148629', '10145048', '10143361', '10134851', '10131221', '10123101', '10120676', '10105235', '10104372', '10104344', '10100218', '10083194', '10072491', '10070815', '10070360', '10070209', '10066034', '10060750', '10055274', '10055226', '10053088', '10049856', '10049292', '10028922', '10028825', '10028787', '10026720', '10003719', '9992841', '9988707', '9983073', '9977097', '9974263', '9973847', '9973303', '9971809', '9967988', '9958100', '9949269', '9949116', '9948713', '9946446', '9650269', '9943676', '9942591', '9937996', '9934365', '9933670', '9933645', '9931576', '9928471', '9917336', '9915273', '9899208', '9898917', '9883684', '10203375', '10199778']\n"
          ]
        }
      ]
    },
    {
      "cell_type": "code",
      "source": [
        "# Journals Lists\n",
        "for ID in biopythonID[:10]:\n",
        "    summary = Entrez.read(Entrez.esummary(db='pmc', id=ID))\n",
        "    for handle in summary:\n",
        "        print(handle['Title'], '\\t',\n",
        "              handle['FullJournalName'], '\\t', handle['DOI'])\n"
      ],
      "metadata": {
        "colab": {
          "base_uri": "https://localhost:8080/"
        },
        "id": "73q_D9g1vaN4",
        "outputId": "f7fc6688-148a-4b10-e983-f0ff0a6a2ae6"
      },
      "execution_count": null,
      "outputs": [
        {
          "output_type": "stream",
          "name": "stdout",
          "text": [
            "CRISPR-Analytics (CRISPR-A): A platform for precise analytics and simulations for gene editing \t PLOS Computational Biology \t 10.1371/journal.pcbi.1011137\n",
            "Insights into the Structural Conformations of the Tau Protein in Different Aggregation Status \t Molecules \t 10.3390/molecules28114544\n",
            "Pathogenicity and Genomic Characterization of a Novel Genospecies, Bacillus shihchuchen, of the Bacillus cereus Group Isolated from Chinese Softshell Turtle (Pelodiscus sinensis) \t International Journal of Molecular Sciences \t 10.3390/ijms24119636\n",
            "GeoBind: segmentation of nucleic acid binding interface on protein surface with geometric deep learning \t Nucleic Acids Research \t 10.1093/nar/gkad288\n",
            "Core defense hotspots within Pseudomonas aeruginosa are a consistent and rich source of anti-phage defense systems \t Nucleic Acids Research \t 10.1093/nar/gkad317\n",
            "Genome-scale CRISPR screen reveals neddylation to contribute to cisplatin resistance of testicular germ cell tumours \t British Journal of Cancer \t 10.1038/s41416-023-02247-5\n",
            "Nursing Informatics and Epigenetics: Methodological Considerations for Big Data Analysis \t Computers, Informatics, Nursing \t 10.1097/CIN.0000000000000992\n",
            "Algae drive convergent bacterial community assembly at low dilution frequency \t iScience \t 10.1016/j.isci.2023.106879\n",
            "Identification of a covert evolutionary pathway between two protein folds \t Nature Communications \t 10.1038/s41467-023-38519-0\n",
            "Dynamics of RNA m5C modification during brain development \t Genomics \t 10.1016/j.ygeno.2023.110604\n"
          ]
        }
      ]
    },
    {
      "cell_type": "markdown",
      "source": [
        "# Exporting Genomic Data from NCBI"
      ],
      "metadata": {
        "id": "cDDoKJygvxoU"
      }
    },
    {
      "cell_type": "code",
      "source": [
        "# Exporting Genomic Data from NCBI\n",
        "\n",
        "# GPI = glucose phosphate isomerase protein family (Protein Coding)\n",
        "# term => is similar with advanced search in NCBI sequence\n",
        "record = Entrez.read(Entrez.esearch(db='nucleotide',\n",
        "                                    term='GPI[Gene Name] AND Homo sapiens [Organism] AND refSeq[Keyword]',\n",
        "                                    retmax=100, idtype='acc'))\n",
        "print(record)\n",
        "\n",
        "# Fetching mRNA only\n",
        "# NM_ means reference mRNA\n",
        "# NC_ means Genomic Data\n",
        "\n",
        "for ID in record['IdList']:\n",
        "    if 'NM_' in ID:\n",
        "        fetch = Entrez.efetch(db='nucleotide', id=ID,\n",
        "                              rettype='fasta', retmode='text')\n",
        "        readFetch = fetch.readline()\n",
        "        print(readFetch)\n",
        "print(record)\n",
        "\n",
        "# Summarize!\n",
        "counter = 0\n",
        "fetchList = []\n",
        "for ID in record['IdList']:\n",
        "    if 'NM_' in ID:\n",
        "        counter += 1\n",
        "        fetch = Entrez.efetch(db='nucleotide',\n",
        "                              id=ID,\n",
        "                              rettype='fasta',\n",
        "                              retmode='text')\n",
        "        readFetch = fetch.readline()\n",
        "        fetchList.append(readFetch)\n",
        "\n",
        "print(fetchList)\n",
        "print(len(fetchList))\n",
        "for files in fetchList:\n",
        "  with open ('GPI.fasta','a+') as savedFile:\n",
        "    savedFile.write(files)"
      ],
      "metadata": {
        "colab": {
          "base_uri": "https://localhost:8080/"
        },
        "id": "cme5XTi4wQde",
        "outputId": "54de2b91-f76f-4bdc-c336-3da1c69dcbf9"
      },
      "execution_count": null,
      "outputs": [
        {
          "output_type": "stream",
          "name": "stdout",
          "text": [
            "{'Count': '23', 'RetMax': '23', 'RetStart': '0', 'IdList': ['XM_054351370.1', 'XM_054351369.1', 'XM_054320582.1', 'XM_054333257.1', 'XM_047416582.1', 'XM_005268348.2', 'XM_011526754.4', 'NC_060929.1', 'NC_060943.1', 'NW_025791809.1', 'XM_006714747.2', 'NC_000005.10', 'NC_000019.10', 'NT_187619.1', 'NG_012838.3', 'NM_001289790.3', 'NM_001329911.2', 'NM_005471.5', 'NM_000175.5', 'NM_001289789.1', 'NM_001329910.1', 'NM_001329909.1', 'NM_001184722.1'], 'TranslationSet': [{'From': 'Homo sapiens[Organism]', 'To': '\"Homo sapiens\"[Organism]'}], 'TranslationStack': [{'Term': 'GPI[Gene Name]', 'Field': 'Gene Name', 'Count': '48823', 'Explode': 'N'}, {'Term': '\"Homo sapiens\"[Organism]', 'Field': 'Organism', 'Count': '28450859', 'Explode': 'Y'}, 'AND', {'Term': 'refSeq[Keyword]', 'Field': 'Keyword', 'Count': '97020864', 'Explode': 'N'}, 'AND'], 'QueryTranslation': 'GPI[Gene Name] AND \"Homo sapiens\"[Organism] AND refSeq[Keyword]'}\n",
            ">NM_001289790.3 Homo sapiens glucose-6-phosphate isomerase (GPI), transcript variant 4, mRNA\n",
            "\n",
            ">NM_001329911.2 Homo sapiens glucose-6-phosphate isomerase (GPI), transcript variant 7, mRNA\n",
            "\n",
            ">NM_005471.5 Homo sapiens glucosamine-6-phosphate deaminase 1 (GNPDA1), mRNA\n",
            "\n",
            ">NM_000175.5 Homo sapiens glucose-6-phosphate isomerase (GPI), transcript variant 2, mRNA\n",
            "\n",
            ">NM_001289789.1 Homo sapiens glucose-6-phosphate isomerase (GPI), transcript variant 3, mRNA\n",
            "\n",
            ">NM_001329910.1 Homo sapiens glucose-6-phosphate isomerase (GPI), transcript variant 6, mRNA\n",
            "\n",
            ">NM_001329909.1 Homo sapiens glucose-6-phosphate isomerase (GPI), transcript variant 5, mRNA\n",
            "\n",
            ">NM_001184722.1 Homo sapiens glucose-6-phosphate isomerase (GPI), transcript variant 1, mRNA\n",
            "\n",
            "{'Count': '23', 'RetMax': '23', 'RetStart': '0', 'IdList': ['XM_054351370.1', 'XM_054351369.1', 'XM_054320582.1', 'XM_054333257.1', 'XM_047416582.1', 'XM_005268348.2', 'XM_011526754.4', 'NC_060929.1', 'NC_060943.1', 'NW_025791809.1', 'XM_006714747.2', 'NC_000005.10', 'NC_000019.10', 'NT_187619.1', 'NG_012838.3', 'NM_001289790.3', 'NM_001329911.2', 'NM_005471.5', 'NM_000175.5', 'NM_001289789.1', 'NM_001329910.1', 'NM_001329909.1', 'NM_001184722.1'], 'TranslationSet': [{'From': 'Homo sapiens[Organism]', 'To': '\"Homo sapiens\"[Organism]'}], 'TranslationStack': [{'Term': 'GPI[Gene Name]', 'Field': 'Gene Name', 'Count': '48823', 'Explode': 'N'}, {'Term': '\"Homo sapiens\"[Organism]', 'Field': 'Organism', 'Count': '28450859', 'Explode': 'Y'}, 'AND', {'Term': 'refSeq[Keyword]', 'Field': 'Keyword', 'Count': '97020864', 'Explode': 'N'}, 'AND'], 'QueryTranslation': 'GPI[Gene Name] AND \"Homo sapiens\"[Organism] AND refSeq[Keyword]'}\n",
            "['>NM_001289790.3 Homo sapiens glucose-6-phosphate isomerase (GPI), transcript variant 4, mRNA\\n', '>NM_001329911.2 Homo sapiens glucose-6-phosphate isomerase (GPI), transcript variant 7, mRNA\\n', '>NM_005471.5 Homo sapiens glucosamine-6-phosphate deaminase 1 (GNPDA1), mRNA\\n', '>NM_000175.5 Homo sapiens glucose-6-phosphate isomerase (GPI), transcript variant 2, mRNA\\n', '>NM_001289789.1 Homo sapiens glucose-6-phosphate isomerase (GPI), transcript variant 3, mRNA\\n', '>NM_001329910.1 Homo sapiens glucose-6-phosphate isomerase (GPI), transcript variant 6, mRNA\\n', '>NM_001329909.1 Homo sapiens glucose-6-phosphate isomerase (GPI), transcript variant 5, mRNA\\n', '>NM_001184722.1 Homo sapiens glucose-6-phosphate isomerase (GPI), transcript variant 1, mRNA\\n']\n",
            "8\n"
          ]
        }
      ]
    },
    {
      "cell_type": "markdown",
      "source": [
        "# Record all the data"
      ],
      "metadata": {
        "id": "YchEuuUkxMaQ"
      }
    },
    {
      "cell_type": "code",
      "source": [
        "# Here I took 1 data with this ID -> NM_001289790.3\n",
        "\n",
        "from Bio import SeqIO\n",
        "from Bio.Seq import Seq\n",
        "from Bio.SeqRecord import SeqRecord\n",
        "\n",
        "sequence = \"GCTTGCTGCGCGCTGCCGGCGCTCCTTCCTCCTCGGCTCGCGTCTCACTCAGTGTACCTTCTAGTCCCGC\"\\\n",
        "           \"CATGGCCGCTCTCACCCGGGACCCCCAGTTCCAGAAGCTGCAGCAATGGTACCGCGAGCACCGCTCCGAG\"\\\n",
        "           \"CTGAACCTGCGCCGCCTCTTCGATGCCAACAAGGACCGCTTCAACCACTTCAGCTTGACCCTCAACACCA\"\\\n",
        "           \"ACCATGGGCATATCCTGGTGGATTACTCCAAGAACCTGGTGACGGAGGACGTGATGCGGATGCTGGTGGA\"\\\n",
        "           \"CTTGGCCAAGTCCAGGGGCGTGGAGGCCGCCCGGGAGCGGATGTTCAATGGTGAGAAGATCAACTACACC\"\\\n",
        "           \"GAGGGTCGAGCCGTGCTGCACGTGGCTCTGCGGAACCGGTCAAACACACCCATCCTGGTAGACGGCAAGG\"\\\n",
        "           \"ATGTGATGCCAGAGGTCAACAAGGTTCTGGACAAGATGAAGTCTTTCTGCCAGGGACCCCTCATGGTGAC\"\\\n",
        "           \"TGAAGCCCTTAAGCCATACTCTTCAGGAGGTCCCCGCGTCTGGTATGTCTCCAACATTGATGGAACTCAC\"\\\n",
        "           \"ATTGCCAAAACCCTGGCCCAGCTGAACCCCGAGTCCTCCCTGTTCATCATTGCCTCCAAGACCTTTACTA\"\\\n",
        "           \"CCCAGGAGACCATCACGAATGCAGAGACGGCGAAGGAGTGGTTTCTCCAGGCGGCCAAGGATCCTTCTGC\"\\\n",
        "           \"AGTGGCGAAGCACTTTGTTGCCCTGTCTACTAACACAACCAAAGTGAAGGAGTTTGGAATTGACCCTCAA\"\\\n",
        "           \"AACATGTTCGAGTTCTGGGATTGGGTGGGAGGACGCTACTCGCTGTGGTCGGCCATCGGACTCTCCATTG\"\\\n",
        "           \"CCCTGCACGTGGGTTTTGACAACTTCGAGCAGCTGCTCTCGGGGGCTCACTGGATGGACCAGCACTTCCG\"\\\n",
        "           \"CACGACGCCCCTGGAGAAGAACGCCCCCGTCTTGCTGGCCCTGCTGGGTATCTGGTACATCAACTGCTTT\"\\\n",
        "           \"GGGTGTGAGACACACGCCATGCTGCCCTATGACCAGTACCTGCACCGCTTTGCTGCGTACTTCCAGCAGG\"\\\n",
        "           \"GCGACATGGAGTCCAATGGGAAATACATCACCAAATCTGGAACCCGTGTGGACCACCAGACAGGCCCCAT\"\\\n",
        "           \"TGTGTGGGGGGAGCCAGGGACCAATGGCCAGCATGCTTTTTACCAGCTCATCCACCAAGGCACCAAGATG\"\\\n",
        "           \"ATACCCTGTGACTTCCTCATCCCGGTCCAGACCCAGCACCCCATACGGAAGGGTCTGCATCACAAGATCC\"\\\n",
        "           \"TCCTGGCCAACTTCTTGGCCCAGACAGAGGCCCTGATGAGGGGAAAATCGACGGAGGAGGCCCGAAAGGA\"\\\n",
        "           \"GCTCCAGGCTGCGGGCAAGAGTCCAGAGGACCTTGAGAGGCTGCTGCCACATAAGGTCTTTGAAGGAAAT\"\\\n",
        "           \"CGCCCAACCAACTCTATTGTGTTCACCAAGCTCACACCATTCATGCTTGGAGCCTTGGTCGCCATGTATG\"\\\n",
        "           \"AGCACAAGATCTTCGTTCAGGGCATCATCTGGGACATCAACAGCTTTGACCAGTGGGGAGTGGAGCTGGG\"\\\n",
        "           \"AAAGCAGCTGGCTAAGAAAATAGAGCCTGAGCTTGATGGCAGTGCTCAAGTGACCTCTCACGACGCTTCT\"\\\n",
        "           \"ACCAATGGGCTCATCAACTTCATCAAGCAGCAGCGCGAGGCCAGAGTCCAATAAACTCGTGCTCATCTGC\"\\\n",
        "           \"AGCCTCCTCTGTGACTCCCCTTTCTCTTCTCGTCCCTCCTCCCCGGAGCCGGCACTGCATGTTCCTGGAC\"\\\n",
        "           \"ACCACCCAGAGCACCCTCTGGTTGTGGGCTTGGACCACGAGCCCTTAGCAGGGAAGGCTGGTCTCCCCCA\"\\\n",
        "           \"GCCTAACCCCCAGCCCCTCCATGTCTATGCTCCCTCTGTGTTAGAATTGGCTGAAGTGTTTTTGTGCAGC\"\\\n",
        "           \"TGACTTTTCTGACCCATGTTCACGTTGTTCACATCCCATGTAGAAAAATAAAGATGCCACGGAGGAGGTT\"\\\n",
        "           \"GTAGGCTCAGCCTCTGATTTTTTTTTTCCTGTGATGGTGCTTTATGTAGCAGAGGGCAGGAGCGCTCAGC\"\\\n",
        "           \"AGGACGCAGGCTGTGCCTCTGCGGACACTTAACACTAAGTGGTGAGCGGGTCTAGAGTGGAGCAAGGTGC\"\\\n",
        "           \"CCTGAGAAGACAATAGTGGGGTGGGGGCACAATCAGTCAGGACGGCAACTTGGCCTGTGTCACCAAATCC\"\\\n",
        "           \"CAAGACTGTTTTCCACTCCTCACCTCTGTGACTGCAGAAATTGGATACTCTGTTCACTCGATGGTTCTAA\"\\\n",
        "           \"AAACTGCATTGAGATTATGTTTGTTTCGGGTGAATTCCTGGACAAGACCGAGGATGACTGCCATCTCCTG\"\\\n",
        "           \"GCAAGACGCTCAGGTAGTTCTTTTGCTTTAAAAGGCAGATATTGAAAACTGGAATTTTTTTTTTTTGAGT\"\\\n",
        "           \"CTCGCTCTGTCACCCAGACTGGAGTGCAGTGGTGCAATCTCGGCTCACTGCAACCTCCGCCTCCCGGGTT\"\\\n",
        "           \"CAAGCTATTCTCCTGCCTCAGCCTCCCGAGTAGCTGGGATTACACGGCGCACACCACCATACCCAGCTAA\"\\\n",
        "           \"TTTTTGTATTTTTAGTAGTGAAGGGGTTTTACCATGTTGGGCAGGCTGGTCTTGAACTCCTGACCTCAGG\"\\\n",
        "           \"TGATCTGCCCGCCTCAGCCTCCCACAGTGCTGGGATTACAGGTATGAGCCACCACGCCCGGCCCATTTTT\"\\\n",
        "           \"TTTTTTTTTTTGACAACTTTTTTTTTTTTTTGAGACAGGGTCTTGTTCCATTGCCCAGACTGGAGTGCAG\"\\\n",
        "           \"TGGCATGATCACAGCTCACTGCAGCCAGTAATCCTCTTGCCTCAGCCTCCCAAGTAGTTGAGACTACAGG\"\\\n",
        "           \"TTGTACCACTATGCCCTGCTAGTTTTTTCATTTTTTGTAGAGAGACGGGTCTTTTTTTTTTTTGAGACGG\"\\\n",
        "           \"AGTCTCGCTCTGTCGCCCAAGCTGGAGTGCAGTAGCACGGTCTCAGCTCATTGCAAGCTCCGCCTCCCAG\"\\\n",
        "           \"GTTCACGCCATTCTCCTGCCTCAGACTCCTGTGTAGCTGGGAGTACAGGCACCTGCCACCATGCCCGGCT\"\\\n",
        "           \"AATTTTTTATATATTTTTTTAGCAGAGACAGTGTCTCACTGTGTTAGTCAGGATGGTCTCGATCTCCTGA\"\\\n",
        "           \"CCTCGTGATCCGCCCGCCTCAGCCTCCCAAAGTGCTGGGATTACAGGCGTGAGCCACCGCGCCCAGCAAG\"\\\n",
        "           \"GCGGGTCTTGCTGTGTTTCCCAGACTAGACTGGTCTTGAATTCCAGGGCTCAAGAGATCTCCCACCTCAG\"\\\n",
        "           \"CCTCCCACAGTGCTGGGATTACAGGCGTGAGCCGCCACACCCAGCCTATTCAAAATTTTTTTTTCTTAGA\"\\\n",
        "           \"GACAGGGTCTTTGTTGCCCAGGCTGGACTGCAGTGATACAATCATAGCTGACTGAAGCCTCAAATTCCCA\"\\\n",
        "           \"GGCTAAGGTGATCTTCTCACCTCAGCCTTCCAAGTAGCTGGGTCCGCAGATGCATGCCAGTACACCCAGC\"\\\n",
        "           \"TCATTTAAAAAAAAATTTTTTTCTTTTTTGAGAGTCTTGCTTTGTTGCCCAGGCTGGAGTGCAGTGGTGT\"\\\n",
        "           \"GATCTCGGCTCACTGCAAGCTCCACCTCCCGGCTTCACGCCATTCTCCTGCCTCAGCCTCCCGAGTAGCT\"\\\n",
        "           \"GGGACTACAGGTGCCCGCCACCACACCCGGCTAATTTTTTGTATTTTTAGTAGAGACGGGGTTTCACCGT\"\\\n",
        "           \"GTTAGCCAGGATGGTCTTGATCTCCTGACCTCATGATCCGCCTGCTTTGGCCTCCCAAAGTGCTGGGATT\"\\\n",
        "           \"ACAGGCGTGAGTCACCGCGCCCGGCTCATTTTAAAATTTTTGTAGATCAGTGTACTGTTGTAAAAAAAAA\"\\\n",
        "           \"AAAATAAGAAAAATAAAAAATAAATTTTTGTAGTGATAGGATCCCACTGAGGCCAGAGAATAGGGTCTGG\"\\\n",
        "           \"AGACAAAGGAGCATTCACTTCAGCCTCTGACTGGTGGCAGGCCAAGTCTTTATTTACATAGGGTGTAACC\"\\\n",
        "           \"AAATAGGAAACCTCTAAAGGGTACTTAAACCCCAGATTTTCTACACAGGGCACTTGCTTGAGCCTCATCC\"\\\n",
        "           \"CGCTTTCTGGAATGTACTTTTGCTTCAATAAATCTGTGCTTTTGTTCCTTC\"\\\n",
        "\n",
        "record = SeqRecord(Seq(sequence), id=\"NM_001289790.3\", description=\"Homo sapiens glucose-6-phosphate isomerase (GPI), transcript variant 4, mRNA\")\n",
        "SeqIO.write(record, \"sequence.fasta\", \"fasta\")\n",
        "# SeqIO.write(record, \"sequence.gb\", \"genbank\")"
      ],
      "metadata": {
        "colab": {
          "base_uri": "https://localhost:8080/"
        },
        "id": "XOa_VBVNxO3L",
        "outputId": "eab889f3-f1e1-4777-8177-e91ef2f30fa3"
      },
      "execution_count": null,
      "outputs": [
        {
          "output_type": "execute_result",
          "data": {
            "text/plain": [
              "1"
            ]
          },
          "metadata": {},
          "execution_count": 5
        }
      ]
    },
    {
      "cell_type": "markdown",
      "source": [
        "# Protein EDA"
      ],
      "metadata": {
        "id": "dp6gn1QFziAp"
      }
    },
    {
      "cell_type": "code",
      "source": [
        "from Bio import SeqIO\n",
        "# Load and print A FASTA file format\n",
        "for record in SeqIO.parse(\"sequence.fasta\", \"fasta\"):\n",
        "    print(record.id)\n",
        "    print(record.description)\n",
        "\n",
        "for record in SeqIO.parse(\"sequence.fasta\", \"fasta\"):\n",
        "    print(record)\n",
        "\n",
        "dna_record = SeqIO.read(\"sequence.fasta\", \"fasta\")\n",
        "\n",
        "dna_seq = dna_record.seq\n",
        "\n",
        "dna_seq\n"
      ],
      "metadata": {
        "colab": {
          "base_uri": "https://localhost:8080/"
        },
        "id": "aHcFjZIozkJW",
        "outputId": "18407495-9342-4217-d6eb-8ce5aadc1b56"
      },
      "execution_count": null,
      "outputs": [
        {
          "output_type": "stream",
          "name": "stdout",
          "text": [
            "NM_001289790.3\n",
            "NM_001289790.3 Homo sapiens glucose-6-phosphate isomerase (GPI), transcript variant 4, mRNA\n",
            "ID: NM_001289790.3\n",
            "Name: NM_001289790.3\n",
            "Description: NM_001289790.3 Homo sapiens glucose-6-phosphate isomerase (GPI), transcript variant 4, mRNA\n",
            "Number of features: 0\n",
            "Seq('GCTTGCTGCGCGCTGCCGGCGCTCCTTCCTCCTCGGCTCGCGTCTCACTCAGTG...TTC')\n"
          ]
        },
        {
          "output_type": "execute_result",
          "data": {
            "text/plain": [
              "Seq('GCTTGCTGCGCGCTGCCGGCGCTCCTTCCTCCTCGGCTCGCGTCTCACTCAGTG...TTC')"
            ]
          },
          "metadata": {},
          "execution_count": 6
        }
      ]
    },
    {
      "cell_type": "code",
      "source": [
        "# Read and Load a GenBank File format\n",
        "for record in SeqIO.parse(\"sequence.gb\", \"genbank\"):\n",
        "    print(record)\n",
        "\n",
        "gb_dna_record = SeqIO.read(\"sequence.gb\", \"gb\")"
      ],
      "metadata": {
        "colab": {
          "base_uri": "https://localhost:8080/",
          "height": 380
        },
        "id": "Gy_ie4DM1lle",
        "outputId": "30519287-7296-47da-b67d-3a1c0d033f49"
      },
      "execution_count": null,
      "outputs": [
        {
          "output_type": "error",
          "ename": "FileNotFoundError",
          "evalue": "ignored",
          "traceback": [
            "\u001b[0;31m---------------------------------------------------------------------------\u001b[0m",
            "\u001b[0;31mFileNotFoundError\u001b[0m                         Traceback (most recent call last)",
            "\u001b[0;32m<ipython-input-7-724d111c7253>\u001b[0m in \u001b[0;36m<cell line: 2>\u001b[0;34m()\u001b[0m\n\u001b[1;32m      1\u001b[0m \u001b[0;31m# Read and Load a GenBank File format\u001b[0m\u001b[0;34m\u001b[0m\u001b[0;34m\u001b[0m\u001b[0m\n\u001b[0;32m----> 2\u001b[0;31m \u001b[0;32mfor\u001b[0m \u001b[0mrecord\u001b[0m \u001b[0;32min\u001b[0m \u001b[0mSeqIO\u001b[0m\u001b[0;34m.\u001b[0m\u001b[0mparse\u001b[0m\u001b[0;34m(\u001b[0m\u001b[0;34m\"sequence.gb\"\u001b[0m\u001b[0;34m,\u001b[0m \u001b[0;34m\"genbank\"\u001b[0m\u001b[0;34m)\u001b[0m\u001b[0;34m:\u001b[0m\u001b[0;34m\u001b[0m\u001b[0;34m\u001b[0m\u001b[0m\n\u001b[0m\u001b[1;32m      3\u001b[0m     \u001b[0mprint\u001b[0m\u001b[0;34m(\u001b[0m\u001b[0mrecord\u001b[0m\u001b[0;34m)\u001b[0m\u001b[0;34m\u001b[0m\u001b[0;34m\u001b[0m\u001b[0m\n\u001b[1;32m      4\u001b[0m \u001b[0;34m\u001b[0m\u001b[0m\n\u001b[1;32m      5\u001b[0m \u001b[0mgb_dna_record\u001b[0m \u001b[0;34m=\u001b[0m \u001b[0mSeqIO\u001b[0m\u001b[0;34m.\u001b[0m\u001b[0mread\u001b[0m\u001b[0;34m(\u001b[0m\u001b[0;34m\"sequence.gb\"\u001b[0m\u001b[0;34m,\u001b[0m \u001b[0;34m\"gb\"\u001b[0m\u001b[0;34m)\u001b[0m\u001b[0;34m\u001b[0m\u001b[0;34m\u001b[0m\u001b[0m\n",
            "\u001b[0;32m/usr/local/lib/python3.10/dist-packages/Bio/SeqIO/__init__.py\u001b[0m in \u001b[0;36mparse\u001b[0;34m(handle, format, alphabet)\u001b[0m\n\u001b[1;32m    603\u001b[0m     \u001b[0miterator_generator\u001b[0m \u001b[0;34m=\u001b[0m \u001b[0m_FormatToIterator\u001b[0m\u001b[0;34m.\u001b[0m\u001b[0mget\u001b[0m\u001b[0;34m(\u001b[0m\u001b[0mformat\u001b[0m\u001b[0;34m)\u001b[0m\u001b[0;34m\u001b[0m\u001b[0;34m\u001b[0m\u001b[0m\n\u001b[1;32m    604\u001b[0m     \u001b[0;32mif\u001b[0m \u001b[0miterator_generator\u001b[0m\u001b[0;34m:\u001b[0m\u001b[0;34m\u001b[0m\u001b[0;34m\u001b[0m\u001b[0m\n\u001b[0;32m--> 605\u001b[0;31m         \u001b[0;32mreturn\u001b[0m \u001b[0miterator_generator\u001b[0m\u001b[0;34m(\u001b[0m\u001b[0mhandle\u001b[0m\u001b[0;34m)\u001b[0m\u001b[0;34m\u001b[0m\u001b[0;34m\u001b[0m\u001b[0m\n\u001b[0m\u001b[1;32m    606\u001b[0m     \u001b[0;32mif\u001b[0m \u001b[0mformat\u001b[0m \u001b[0;32min\u001b[0m \u001b[0mAlignIO\u001b[0m\u001b[0;34m.\u001b[0m\u001b[0m_FormatToIterator\u001b[0m\u001b[0;34m:\u001b[0m\u001b[0;34m\u001b[0m\u001b[0;34m\u001b[0m\u001b[0m\n\u001b[1;32m    607\u001b[0m         \u001b[0;31m# Use Bio.AlignIO to read in the alignments\u001b[0m\u001b[0;34m\u001b[0m\u001b[0;34m\u001b[0m\u001b[0m\n",
            "\u001b[0;32m/usr/local/lib/python3.10/dist-packages/Bio/SeqIO/InsdcIO.py\u001b[0m in \u001b[0;36m__init__\u001b[0;34m(self, source)\u001b[0m\n\u001b[1;32m     95\u001b[0m \u001b[0;34m\u001b[0m\u001b[0m\n\u001b[1;32m     96\u001b[0m         \"\"\"\n\u001b[0;32m---> 97\u001b[0;31m         \u001b[0msuper\u001b[0m\u001b[0;34m(\u001b[0m\u001b[0;34m)\u001b[0m\u001b[0;34m.\u001b[0m\u001b[0m__init__\u001b[0m\u001b[0;34m(\u001b[0m\u001b[0msource\u001b[0m\u001b[0;34m,\u001b[0m \u001b[0mmode\u001b[0m\u001b[0;34m=\u001b[0m\u001b[0;34m\"t\"\u001b[0m\u001b[0;34m,\u001b[0m \u001b[0mfmt\u001b[0m\u001b[0;34m=\u001b[0m\u001b[0;34m\"GenBank\"\u001b[0m\u001b[0;34m)\u001b[0m\u001b[0;34m\u001b[0m\u001b[0;34m\u001b[0m\u001b[0m\n\u001b[0m\u001b[1;32m     98\u001b[0m \u001b[0;34m\u001b[0m\u001b[0m\n\u001b[1;32m     99\u001b[0m     \u001b[0;32mdef\u001b[0m \u001b[0mparse\u001b[0m\u001b[0;34m(\u001b[0m\u001b[0mself\u001b[0m\u001b[0;34m,\u001b[0m \u001b[0mhandle\u001b[0m\u001b[0;34m)\u001b[0m\u001b[0;34m:\u001b[0m\u001b[0;34m\u001b[0m\u001b[0;34m\u001b[0m\u001b[0m\n",
            "\u001b[0;32m/usr/local/lib/python3.10/dist-packages/Bio/SeqIO/Interfaces.py\u001b[0m in \u001b[0;36m__init__\u001b[0;34m(self, source, alphabet, mode, fmt)\u001b[0m\n\u001b[1;32m     43\u001b[0m             \u001b[0;32mraise\u001b[0m \u001b[0mValueError\u001b[0m\u001b[0;34m(\u001b[0m\u001b[0;34m\"The alphabet argument is no longer supported\"\u001b[0m\u001b[0;34m)\u001b[0m\u001b[0;34m\u001b[0m\u001b[0;34m\u001b[0m\u001b[0m\n\u001b[1;32m     44\u001b[0m         \u001b[0;32mtry\u001b[0m\u001b[0;34m:\u001b[0m\u001b[0;34m\u001b[0m\u001b[0;34m\u001b[0m\u001b[0m\n\u001b[0;32m---> 45\u001b[0;31m             \u001b[0mself\u001b[0m\u001b[0;34m.\u001b[0m\u001b[0mstream\u001b[0m \u001b[0;34m=\u001b[0m \u001b[0mopen\u001b[0m\u001b[0;34m(\u001b[0m\u001b[0msource\u001b[0m\u001b[0;34m,\u001b[0m \u001b[0;34m\"r\"\u001b[0m \u001b[0;34m+\u001b[0m \u001b[0mmode\u001b[0m\u001b[0;34m)\u001b[0m\u001b[0;34m\u001b[0m\u001b[0;34m\u001b[0m\u001b[0m\n\u001b[0m\u001b[1;32m     46\u001b[0m             \u001b[0mself\u001b[0m\u001b[0;34m.\u001b[0m\u001b[0mshould_close_stream\u001b[0m \u001b[0;34m=\u001b[0m \u001b[0;32mTrue\u001b[0m\u001b[0;34m\u001b[0m\u001b[0;34m\u001b[0m\u001b[0m\n\u001b[1;32m     47\u001b[0m         \u001b[0;32mexcept\u001b[0m \u001b[0mTypeError\u001b[0m\u001b[0;34m:\u001b[0m  \u001b[0;31m# not a path, assume we received a stream\u001b[0m\u001b[0;34m\u001b[0m\u001b[0;34m\u001b[0m\u001b[0m\n",
            "\u001b[0;31mFileNotFoundError\u001b[0m: [Errno 2] No such file or directory: 'sequence.gb'"
          ]
        }
      ]
    },
    {
      "cell_type": "code",
      "source": [
        "# Writing Exported Data into FASTA\n",
        "from Bio import SeqIO\n",
        "\n",
        "record_dict = SeqIO.to_dict(SeqIO.parse('sequence.fasta', 'fasta'))\n",
        "\n",
        "with open('output_sequence_fasta.fasta', 'w') as handle:\n",
        "    SeqIO.write(record_dict.values(), handle, 'fasta')"
      ],
      "metadata": {
        "id": "Aeo-29aa3hJY"
      },
      "execution_count": null,
      "outputs": []
    },
    {
      "cell_type": "code",
      "source": [
        "# Write exported Data into GenBank\n",
        "from Bio import SeqIO\n",
        "\n",
        "record_dict = SeqIO.to_dict(SeqIO.parse('sequence.fasta', 'fasta'))\n",
        "\n",
        "for record in record_dict.values():\n",
        "    record.annotations[\"molecule_type\"] = \"DNA\"\n",
        "\n",
        "with open('output_sequence_genbank.gb', 'w') as handle:\n",
        "    SeqIO.write(record_dict.values(), handle, 'gb')"
      ],
      "metadata": {
        "id": "yO3hIlPH4oCf"
      },
      "execution_count": null,
      "outputs": []
    },
    {
      "cell_type": "code",
      "source": [
        "from Bio.Seq import Seq\n",
        "from Bio import SeqIO\n",
        "seq_test = SeqIO.read(\"sequence.fasta\", \"fasta\")\n",
        "dna_seq = seq_test.seq\n",
        "\n",
        "# Transcription\n",
        "# DNA to mRNA = Writing the msg\n",
        "protein_test = dna_seq.transcribe().translate()\n",
        "protein_test\n",
        "\n",
        "# Longest Seq AA before a stop codon\n",
        "protein_test_clean = protein_test.split(\"*\")\n",
        "protein_test_clean = [str(i) for i in protein_test_clean]\n",
        "protein_test_clean"
      ],
      "metadata": {
        "id": "ZlEtC5jy5SbR",
        "colab": {
          "base_uri": "https://localhost:8080/"
        },
        "outputId": "3f84b2e2-ba1e-4ed4-9cdd-a81d81116bb7"
      },
      "execution_count": null,
      "outputs": [
        {
          "output_type": "execute_result",
          "data": {
            "text/plain": [
              "['ACCALPALLPPRLASHSVYLLVPPWPLSPGTPSSRSCSNGTASTAPS',\n",
              " 'TCAASSMPTRTASTTSA',\n",
              " 'PSTPTMGISWWITPRTW',\n",
              " 'RRT',\n",
              " 'CGCWWTWPSPGAWRPPGSGCSMVRRSTTPRVEPCCTWLCGTGQTHPSW',\n",
              " 'TARM',\n",
              " 'CQRSTRFWTR',\n",
              " 'SLSARDPSW',\n",
              " 'LKPLSHTLQEVPASGMSPTLMELTLPKPWPS',\n",
              " 'TPSPPCSSLPPRPLLPRRPSRMQRRRRSGFSRRPRILLQWRSTLLPCLLTQPK',\n",
              " 'RSLELTLKTCSSSGIGWEDATRCGRPSDSPLPCTWVLTTSSSCSRGLTGWTSTSARRPWRRTPPSCWPCWVSGTSTALGVRHTPCCPMTSTCTALLRTSSRATWSPMGNTSPNLEPVWTTRQAPLCGGSQGPMASMLFTSSSTKAPR',\n",
              " 'YPVTSSSRSRPSTPYGRVCITRSSWPTSWPRQRP',\n",
              " '',\n",
              " 'GENRRRRPERSSRLRARVQRTLRGCCHIRSLKEIAQPTLLCSPSSHHSCLEPWSPCMSTRSSFRASSGTSTALTSGEWSWESSWLRK',\n",
              " 'SLSLMAVLK',\n",
              " 'PLTTLLPMGSSTSSSSSARPESNKLVLICSLLCDSPFSSRPSSPEPALHVPGHHPEHPLVVGLDHEPLAGKAGLPQPNPQPLHVYAPSVLELAEVFLCS',\n",
              " 'LF',\n",
              " 'PMFTLFTSHVEK',\n",
              " 'RCHGGGCRLSL',\n",
              " 'FFFSCDGALCSRGQERSAGRRLCLCGHLTLSGERV',\n",
              " 'SGARCPEKTIVGWGHNQSGRQLGLCHQIPRLFSTPHLCDCRNWILCSLDGSKNCIEIMFVSGEFLDKTEDDCHLLARRSGSSFALKGRY',\n",
              " 'KLEFFFFESRSVTQTGVQWCNLGSLQPPPPGFKLFSCLSLPSSWDYTAHTTIPS',\n",
              " 'FLYF',\n",
              " '',\n",
              " '',\n",
              " 'RGFTMLGRLVLNS',\n",
              " 'PQVICPPQPPTVLGLQV',\n",
              " 'ATTPGPFFFFF',\n",
              " 'QLFFFFETGSCSIAQTGVQWHDHSSLQPVILLPQPPK',\n",
              " 'LRLQVVPLCPASFFIFCRETGLFFF',\n",
              " 'DGVSLCRPSWSAVARSQLIASSASQVHAILLPQTPV',\n",
              " 'LGVQAPATMPG',\n",
              " 'FFIYFFSRDSVSLC',\n",
              " 'SGWSRSPDLVIRPPQPPKVLGLQA',\n",
              " 'ATAPSKAGLAVFPRLDWS',\n",
              " 'IPGLKRSPTSASHSAGITGVSRHTQPIQNFFFLETGSLLPRLDCSDTIIAD',\n",
              " 'SLKFPG',\n",
              " 'GDLLTSAFQVAGSADACQYTQLI',\n",
              " 'KKIFFFFESLALLPRLECSGVISAHCKLHLPASRHSPASASRVAGTTGARHHTRLIFCIFSRDGVSPC',\n",
              " 'PGWS',\n",
              " 'SPDLMIRLLWPPKVLGLQA',\n",
              " 'VTAPGSF',\n",
              " 'NFCRSVYCCKKKKIRKIKNKFL',\n",
              " '',\n",
              " '',\n",
              " 'DPTEARE',\n",
              " 'GLETKEHSLQPLTGGRPSLYLHRV',\n",
              " 'PNRKPLKGT',\n",
              " 'TPDFLHRALA',\n",
              " 'ASSRFLECTFASINLCFCSF']"
            ]
          },
          "metadata": {},
          "execution_count": 10
        }
      ]
    },
    {
      "cell_type": "code",
      "source": [
        "%pip install pandas"
      ],
      "metadata": {
        "id": "iEuUQF6A7LVw",
        "colab": {
          "base_uri": "https://localhost:8080/"
        },
        "outputId": "65c98652-7de6-44c7-d5e1-903a34522c70"
      },
      "execution_count": null,
      "outputs": [
        {
          "output_type": "stream",
          "name": "stdout",
          "text": [
            "Looking in indexes: https://pypi.org/simple, https://us-python.pkg.dev/colab-wheels/public/simple/\n",
            "Requirement already satisfied: pandas in /usr/local/lib/python3.10/dist-packages (1.5.3)\n",
            "Requirement already satisfied: python-dateutil>=2.8.1 in /usr/local/lib/python3.10/dist-packages (from pandas) (2.8.2)\n",
            "Requirement already satisfied: pytz>=2020.1 in /usr/local/lib/python3.10/dist-packages (from pandas) (2022.7.1)\n",
            "Requirement already satisfied: numpy>=1.21.0 in /usr/local/lib/python3.10/dist-packages (from pandas) (1.22.4)\n",
            "Requirement already satisfied: six>=1.5 in /usr/local/lib/python3.10/dist-packages (from python-dateutil>=2.8.1->pandas) (1.16.0)\n"
          ]
        }
      ]
    },
    {
      "cell_type": "code",
      "source": [
        "# Data Frame (OPTIONAL BUT IMPORTANT FOR DATA SCIENCE)\n",
        "import pandas as pd\n",
        "df = pd.DataFrame({\"amino_acids\": protein_test_clean})\n",
        "\n",
        "df['count'] = df['amino_acids'].str.len()\n",
        "\n",
        "print(df.head())\n",
        "\n",
        "print(df.nlargest(10, 'count'))\n",
        "\n",
        "df.nlargest(10, 'count')"
      ],
      "metadata": {
        "id": "ZSfYBV0S50Ak",
        "colab": {
          "base_uri": "https://localhost:8080/",
          "height": 658
        },
        "outputId": "0bb643ab-baa4-487e-ae82-7270dd8f2f15"
      },
      "execution_count": null,
      "outputs": [
        {
          "output_type": "stream",
          "name": "stdout",
          "text": [
            "                                        amino_acids  count\n",
            "0   ACCALPALLPPRLASHSVYLLVPPWPLSPGTPSSRSCSNGTASTAPS     47\n",
            "1                                 TCAASSMPTRTASTTSA     17\n",
            "2                                 PSTPTMGISWWITPRTW     17\n",
            "3                                               RRT      3\n",
            "4  CGCWWTWPSPGAWRPPGSGCSMVRRSTTPRVEPCCTWLCGTGQTHPSW     48\n",
            "                                          amino_acids  count\n",
            "10  RSLELTLKTCSSSGIGWEDATRCGRPSDSPLPCTWVLTTSSSCSRG...    147\n",
            "15  PLTTLLPMGSSTSSSSSARPESNKLVLICSLLCDSPFSSRPSSPEP...     99\n",
            "20  SGARCPEKTIVGWGHNQSGRQLGLCHQIPRLFSTPHLCDCRNWILC...     89\n",
            "13  GENRRRRPERSSRLRARVQRTLRGCCHIRSLKEIAQPTLLCSPSSH...     87\n",
            "38  KKIFFFFESLALLPRLECSGVISAHCKLHLPASRHSPASASRVAGT...     68\n",
            "21  KLEFFFFESRSVTQTGVQWCNLGSLQPPPPGFKLFSCLSLPSSWDY...     54\n",
            "9   TPSPPCSSLPPRPLLPRRPSRMQRRRRSGFSRRPRILLQWRSTLLP...     53\n",
            "35  IPGLKRSPTSASHSAGITGVSRHTQPIQNFFFLETGSLLPRLDCSD...     51\n",
            "4    CGCWWTWPSPGAWRPPGSGCSMVRRSTTPRVEPCCTWLCGTGQTHPSW     48\n",
            "0     ACCALPALLPPRLASHSVYLLVPPWPLSPGTPSSRSCSNGTASTAPS     47\n"
          ]
        },
        {
          "output_type": "execute_result",
          "data": {
            "text/plain": [
              "                                          amino_acids  count\n",
              "10  RSLELTLKTCSSSGIGWEDATRCGRPSDSPLPCTWVLTTSSSCSRG...    147\n",
              "15  PLTTLLPMGSSTSSSSSARPESNKLVLICSLLCDSPFSSRPSSPEP...     99\n",
              "20  SGARCPEKTIVGWGHNQSGRQLGLCHQIPRLFSTPHLCDCRNWILC...     89\n",
              "13  GENRRRRPERSSRLRARVQRTLRGCCHIRSLKEIAQPTLLCSPSSH...     87\n",
              "38  KKIFFFFESLALLPRLECSGVISAHCKLHLPASRHSPASASRVAGT...     68\n",
              "21  KLEFFFFESRSVTQTGVQWCNLGSLQPPPPGFKLFSCLSLPSSWDY...     54\n",
              "9   TPSPPCSSLPPRPLLPRRPSRMQRRRRSGFSRRPRILLQWRSTLLP...     53\n",
              "35  IPGLKRSPTSASHSAGITGVSRHTQPIQNFFFLETGSLLPRLDCSD...     51\n",
              "4    CGCWWTWPSPGAWRPPGSGCSMVRRSTTPRVEPCCTWLCGTGQTHPSW     48\n",
              "0     ACCALPALLPPRLASHSVYLLVPPWPLSPGTPSSRSCSNGTASTAPS     47"
            ],
            "text/html": [
              "\n",
              "  <div id=\"df-2e52c634-8370-4bbb-9a39-91f6c3689c4b\">\n",
              "    <div class=\"colab-df-container\">\n",
              "      <div>\n",
              "<style scoped>\n",
              "    .dataframe tbody tr th:only-of-type {\n",
              "        vertical-align: middle;\n",
              "    }\n",
              "\n",
              "    .dataframe tbody tr th {\n",
              "        vertical-align: top;\n",
              "    }\n",
              "\n",
              "    .dataframe thead th {\n",
              "        text-align: right;\n",
              "    }\n",
              "</style>\n",
              "<table border=\"1\" class=\"dataframe\">\n",
              "  <thead>\n",
              "    <tr style=\"text-align: right;\">\n",
              "      <th></th>\n",
              "      <th>amino_acids</th>\n",
              "      <th>count</th>\n",
              "    </tr>\n",
              "  </thead>\n",
              "  <tbody>\n",
              "    <tr>\n",
              "      <th>10</th>\n",
              "      <td>RSLELTLKTCSSSGIGWEDATRCGRPSDSPLPCTWVLTTSSSCSRG...</td>\n",
              "      <td>147</td>\n",
              "    </tr>\n",
              "    <tr>\n",
              "      <th>15</th>\n",
              "      <td>PLTTLLPMGSSTSSSSSARPESNKLVLICSLLCDSPFSSRPSSPEP...</td>\n",
              "      <td>99</td>\n",
              "    </tr>\n",
              "    <tr>\n",
              "      <th>20</th>\n",
              "      <td>SGARCPEKTIVGWGHNQSGRQLGLCHQIPRLFSTPHLCDCRNWILC...</td>\n",
              "      <td>89</td>\n",
              "    </tr>\n",
              "    <tr>\n",
              "      <th>13</th>\n",
              "      <td>GENRRRRPERSSRLRARVQRTLRGCCHIRSLKEIAQPTLLCSPSSH...</td>\n",
              "      <td>87</td>\n",
              "    </tr>\n",
              "    <tr>\n",
              "      <th>38</th>\n",
              "      <td>KKIFFFFESLALLPRLECSGVISAHCKLHLPASRHSPASASRVAGT...</td>\n",
              "      <td>68</td>\n",
              "    </tr>\n",
              "    <tr>\n",
              "      <th>21</th>\n",
              "      <td>KLEFFFFESRSVTQTGVQWCNLGSLQPPPPGFKLFSCLSLPSSWDY...</td>\n",
              "      <td>54</td>\n",
              "    </tr>\n",
              "    <tr>\n",
              "      <th>9</th>\n",
              "      <td>TPSPPCSSLPPRPLLPRRPSRMQRRRRSGFSRRPRILLQWRSTLLP...</td>\n",
              "      <td>53</td>\n",
              "    </tr>\n",
              "    <tr>\n",
              "      <th>35</th>\n",
              "      <td>IPGLKRSPTSASHSAGITGVSRHTQPIQNFFFLETGSLLPRLDCSD...</td>\n",
              "      <td>51</td>\n",
              "    </tr>\n",
              "    <tr>\n",
              "      <th>4</th>\n",
              "      <td>CGCWWTWPSPGAWRPPGSGCSMVRRSTTPRVEPCCTWLCGTGQTHPSW</td>\n",
              "      <td>48</td>\n",
              "    </tr>\n",
              "    <tr>\n",
              "      <th>0</th>\n",
              "      <td>ACCALPALLPPRLASHSVYLLVPPWPLSPGTPSSRSCSNGTASTAPS</td>\n",
              "      <td>47</td>\n",
              "    </tr>\n",
              "  </tbody>\n",
              "</table>\n",
              "</div>\n",
              "      <button class=\"colab-df-convert\" onclick=\"convertToInteractive('df-2e52c634-8370-4bbb-9a39-91f6c3689c4b')\"\n",
              "              title=\"Convert this dataframe to an interactive table.\"\n",
              "              style=\"display:none;\">\n",
              "        \n",
              "  <svg xmlns=\"http://www.w3.org/2000/svg\" height=\"24px\"viewBox=\"0 0 24 24\"\n",
              "       width=\"24px\">\n",
              "    <path d=\"M0 0h24v24H0V0z\" fill=\"none\"/>\n",
              "    <path d=\"M18.56 5.44l.94 2.06.94-2.06 2.06-.94-2.06-.94-.94-2.06-.94 2.06-2.06.94zm-11 1L8.5 8.5l.94-2.06 2.06-.94-2.06-.94L8.5 2.5l-.94 2.06-2.06.94zm10 10l.94 2.06.94-2.06 2.06-.94-2.06-.94-.94-2.06-.94 2.06-2.06.94z\"/><path d=\"M17.41 7.96l-1.37-1.37c-.4-.4-.92-.59-1.43-.59-.52 0-1.04.2-1.43.59L10.3 9.45l-7.72 7.72c-.78.78-.78 2.05 0 2.83L4 21.41c.39.39.9.59 1.41.59.51 0 1.02-.2 1.41-.59l7.78-7.78 2.81-2.81c.8-.78.8-2.07 0-2.86zM5.41 20L4 18.59l7.72-7.72 1.47 1.35L5.41 20z\"/>\n",
              "  </svg>\n",
              "      </button>\n",
              "      \n",
              "  <style>\n",
              "    .colab-df-container {\n",
              "      display:flex;\n",
              "      flex-wrap:wrap;\n",
              "      gap: 12px;\n",
              "    }\n",
              "\n",
              "    .colab-df-convert {\n",
              "      background-color: #E8F0FE;\n",
              "      border: none;\n",
              "      border-radius: 50%;\n",
              "      cursor: pointer;\n",
              "      display: none;\n",
              "      fill: #1967D2;\n",
              "      height: 32px;\n",
              "      padding: 0 0 0 0;\n",
              "      width: 32px;\n",
              "    }\n",
              "\n",
              "    .colab-df-convert:hover {\n",
              "      background-color: #E2EBFA;\n",
              "      box-shadow: 0px 1px 2px rgba(60, 64, 67, 0.3), 0px 1px 3px 1px rgba(60, 64, 67, 0.15);\n",
              "      fill: #174EA6;\n",
              "    }\n",
              "\n",
              "    [theme=dark] .colab-df-convert {\n",
              "      background-color: #3B4455;\n",
              "      fill: #D2E3FC;\n",
              "    }\n",
              "\n",
              "    [theme=dark] .colab-df-convert:hover {\n",
              "      background-color: #434B5C;\n",
              "      box-shadow: 0px 1px 3px 1px rgba(0, 0, 0, 0.15);\n",
              "      filter: drop-shadow(0px 1px 2px rgba(0, 0, 0, 0.3));\n",
              "      fill: #FFFFFF;\n",
              "    }\n",
              "  </style>\n",
              "\n",
              "      <script>\n",
              "        const buttonEl =\n",
              "          document.querySelector('#df-2e52c634-8370-4bbb-9a39-91f6c3689c4b button.colab-df-convert');\n",
              "        buttonEl.style.display =\n",
              "          google.colab.kernel.accessAllowed ? 'block' : 'none';\n",
              "\n",
              "        async function convertToInteractive(key) {\n",
              "          const element = document.querySelector('#df-2e52c634-8370-4bbb-9a39-91f6c3689c4b');\n",
              "          const dataTable =\n",
              "            await google.colab.kernel.invokeFunction('convertToInteractive',\n",
              "                                                     [key], {});\n",
              "          if (!dataTable) return;\n",
              "\n",
              "          const docLinkHtml = 'Like what you see? Visit the ' +\n",
              "            '<a target=\"_blank\" href=https://colab.research.google.com/notebooks/data_table.ipynb>data table notebook</a>'\n",
              "            + ' to learn more about interactive tables.';\n",
              "          element.innerHTML = '';\n",
              "          dataTable['output_type'] = 'display_data';\n",
              "          await google.colab.output.renderOutput(dataTable, element);\n",
              "          const docLink = document.createElement('div');\n",
              "          docLink.innerHTML = docLinkHtml;\n",
              "          element.appendChild(docLink);\n",
              "        }\n",
              "      </script>\n",
              "    </div>\n",
              "  </div>\n",
              "  "
            ]
          },
          "metadata": {},
          "execution_count": 12
        }
      ]
    }
  ]
}