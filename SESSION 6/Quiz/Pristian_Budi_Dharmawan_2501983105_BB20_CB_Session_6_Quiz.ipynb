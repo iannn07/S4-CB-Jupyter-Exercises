{
  "nbformat": 4,
  "nbformat_minor": 0,
  "metadata": {
    "colab": {
      "provenance": []
    },
    "kernelspec": {
      "name": "python3",
      "display_name": "Python 3"
    },
    "language_info": {
      "name": "python"
    }
  },
  "cells": [
    {
      "cell_type": "code",
      "source": [
        "%pip install biopython\n",
        "%pip install pandas"
      ],
      "metadata": {
        "colab": {
          "base_uri": "https://localhost:8080/"
        },
        "id": "yUdtOPGpsodD",
        "outputId": "ab1e3159-f79b-4fe6-ff7e-d670aed25655"
      },
      "execution_count": null,
      "outputs": [
        {
          "output_type": "stream",
          "name": "stdout",
          "text": [
            "Looking in indexes: https://pypi.org/simple, https://us-python.pkg.dev/colab-wheels/public/simple/\n",
            "Requirement already satisfied: biopython in /usr/local/lib/python3.10/dist-packages (1.81)\n",
            "Requirement already satisfied: numpy in /usr/local/lib/python3.10/dist-packages (from biopython) (1.22.4)\n",
            "Looking in indexes: https://pypi.org/simple, https://us-python.pkg.dev/colab-wheels/public/simple/\n",
            "Requirement already satisfied: pandas in /usr/local/lib/python3.10/dist-packages (1.5.3)\n",
            "Requirement already satisfied: python-dateutil>=2.8.1 in /usr/local/lib/python3.10/dist-packages (from pandas) (2.8.2)\n",
            "Requirement already satisfied: pytz>=2020.1 in /usr/local/lib/python3.10/dist-packages (from pandas) (2022.7.1)\n",
            "Requirement already satisfied: numpy>=1.21.0 in /usr/local/lib/python3.10/dist-packages (from pandas) (1.22.4)\n",
            "Requirement already satisfied: six>=1.5 in /usr/local/lib/python3.10/dist-packages (from python-dateutil>=2.8.1->pandas) (1.16.0)\n"
          ]
        }
      ]
    },
    {
      "cell_type": "code",
      "execution_count": null,
      "metadata": {
        "id": "3MZj7EwlqkTe",
        "colab": {
          "base_uri": "https://localhost:8080/"
        },
        "outputId": "b3246399-f484-450c-b4b1-6e6e35dda427"
      },
      "outputs": [
        {
          "output_type": "stream",
          "name": "stdout",
          "text": [
            "protein_sequence\n",
            "protein_sequence\n",
            "ID: protein_sequence\n",
            "Name: protein_sequence\n",
            "Description: protein_sequence\n",
            "Number of features: 0\n",
            "Seq('MRKDLSPVLENYLLRVCVQGVAQKPVKALQKLQHSLTAAALYALQKKTAVVAPAAPLAAA')\n"
          ]
        },
        {
          "output_type": "execute_result",
          "data": {
            "text/plain": [
              "Seq('MRKDLSPVLENYLLRVCVQGVAQKPVKALQKLQHSLTAAALYALQKKTAVVAPAAPLAAA')"
            ]
          },
          "metadata": {},
          "execution_count": 6
        }
      ],
      "source": [
        "from Bio import SeqIO\n",
        "from Bio.Seq import Seq\n",
        "from Bio.SeqRecord import SeqRecord\n",
        "# Load and print A FASTA file format\n",
        "for record in SeqIO.parse(\"sequence.fasta\", \"fasta\"):\n",
        "    print(record.id)\n",
        "    print(record.description)\n",
        "\n",
        "for record in SeqIO.parse(\"sequence.fasta\", \"fasta\"):\n",
        "    print(record)\n",
        "\n",
        "dna_record = SeqIO.read(\"sequence.fasta\", \"fasta\")\n",
        "\n",
        "dna_seq = dna_record.seq\n",
        "\n",
        "dna_seq\n"
      ]
    },
    {
      "cell_type": "code",
      "source": [
        "from Bio.Seq import Seq\n",
        "from Bio import SeqIO\n",
        "\n",
        "seq_record = SeqIO.read(\"sequence.fasta\", \"fasta\")\n",
        "protein_seq = seq_record.seq\n",
        "\n",
        "protein_test = str(protein_seq)\n",
        "protein_test_clean = protein_test.split(\"*\")\n",
        "protein_test_clean = [str(i) for i in protein_test_clean]\n",
        "\n",
        "print(protein_test_clean)"
      ],
      "metadata": {
        "colab": {
          "base_uri": "https://localhost:8080/"
        },
        "id": "4hXdv1Oqs8q2",
        "outputId": "91a5a47f-7597-4f9c-8bf6-b7a92a3721a2"
      },
      "execution_count": null,
      "outputs": [
        {
          "output_type": "stream",
          "name": "stdout",
          "text": [
            "['MRKDLSPVLENYLLRVCVQGVAQKPVKALQKLQHSLTAAALYALQKKTAVVAPAAPLAAA']\n"
          ]
        }
      ]
    },
    {
      "cell_type": "code",
      "source": [
        "# Data Frame (OPTIONAL BUT IMPORTANT FOR DATA SCIENCE)\n",
        "import pandas as pd\n",
        "df = pd.DataFrame({\"amino_acids\": protein_test_clean})\n",
        "\n",
        "df['count'] = df['amino_acids'].str.len()\n",
        "\n",
        "print(df.head())\n",
        "\n",
        "print(df.nlargest(10, 'count'))\n",
        "\n",
        "df.nlargest(10, 'count')"
      ],
      "metadata": {
        "colab": {
          "base_uri": "https://localhost:8080/",
          "height": 150
        },
        "id": "DM5GgnnJtH4i",
        "outputId": "457ed2d2-36bb-4b6b-f3b7-046c618dccb7"
      },
      "execution_count": null,
      "outputs": [
        {
          "output_type": "stream",
          "name": "stdout",
          "text": [
            "                                         amino_acids  count\n",
            "0  MRKDLSPVLENYLLRVCVQGVAQKPVKALQKLQHSLTAAALYALQK...     60\n",
            "                                         amino_acids  count\n",
            "0  MRKDLSPVLENYLLRVCVQGVAQKPVKALQKLQHSLTAAALYALQK...     60\n"
          ]
        },
        {
          "output_type": "execute_result",
          "data": {
            "text/plain": [
              "                                         amino_acids  count\n",
              "0  MRKDLSPVLENYLLRVCVQGVAQKPVKALQKLQHSLTAAALYALQK...     60"
            ],
            "text/html": [
              "\n",
              "  <div id=\"df-1bc53f42-b2db-40b2-a2cc-b9c83f86422c\">\n",
              "    <div class=\"colab-df-container\">\n",
              "      <div>\n",
              "<style scoped>\n",
              "    .dataframe tbody tr th:only-of-type {\n",
              "        vertical-align: middle;\n",
              "    }\n",
              "\n",
              "    .dataframe tbody tr th {\n",
              "        vertical-align: top;\n",
              "    }\n",
              "\n",
              "    .dataframe thead th {\n",
              "        text-align: right;\n",
              "    }\n",
              "</style>\n",
              "<table border=\"1\" class=\"dataframe\">\n",
              "  <thead>\n",
              "    <tr style=\"text-align: right;\">\n",
              "      <th></th>\n",
              "      <th>amino_acids</th>\n",
              "      <th>count</th>\n",
              "    </tr>\n",
              "  </thead>\n",
              "  <tbody>\n",
              "    <tr>\n",
              "      <th>0</th>\n",
              "      <td>MRKDLSPVLENYLLRVCVQGVAQKPVKALQKLQHSLTAAALYALQK...</td>\n",
              "      <td>60</td>\n",
              "    </tr>\n",
              "  </tbody>\n",
              "</table>\n",
              "</div>\n",
              "      <button class=\"colab-df-convert\" onclick=\"convertToInteractive('df-1bc53f42-b2db-40b2-a2cc-b9c83f86422c')\"\n",
              "              title=\"Convert this dataframe to an interactive table.\"\n",
              "              style=\"display:none;\">\n",
              "        \n",
              "  <svg xmlns=\"http://www.w3.org/2000/svg\" height=\"24px\"viewBox=\"0 0 24 24\"\n",
              "       width=\"24px\">\n",
              "    <path d=\"M0 0h24v24H0V0z\" fill=\"none\"/>\n",
              "    <path d=\"M18.56 5.44l.94 2.06.94-2.06 2.06-.94-2.06-.94-.94-2.06-.94 2.06-2.06.94zm-11 1L8.5 8.5l.94-2.06 2.06-.94-2.06-.94L8.5 2.5l-.94 2.06-2.06.94zm10 10l.94 2.06.94-2.06 2.06-.94-2.06-.94-.94-2.06-.94 2.06-2.06.94z\"/><path d=\"M17.41 7.96l-1.37-1.37c-.4-.4-.92-.59-1.43-.59-.52 0-1.04.2-1.43.59L10.3 9.45l-7.72 7.72c-.78.78-.78 2.05 0 2.83L4 21.41c.39.39.9.59 1.41.59.51 0 1.02-.2 1.41-.59l7.78-7.78 2.81-2.81c.8-.78.8-2.07 0-2.86zM5.41 20L4 18.59l7.72-7.72 1.47 1.35L5.41 20z\"/>\n",
              "  </svg>\n",
              "      </button>\n",
              "      \n",
              "  <style>\n",
              "    .colab-df-container {\n",
              "      display:flex;\n",
              "      flex-wrap:wrap;\n",
              "      gap: 12px;\n",
              "    }\n",
              "\n",
              "    .colab-df-convert {\n",
              "      background-color: #E8F0FE;\n",
              "      border: none;\n",
              "      border-radius: 50%;\n",
              "      cursor: pointer;\n",
              "      display: none;\n",
              "      fill: #1967D2;\n",
              "      height: 32px;\n",
              "      padding: 0 0 0 0;\n",
              "      width: 32px;\n",
              "    }\n",
              "\n",
              "    .colab-df-convert:hover {\n",
              "      background-color: #E2EBFA;\n",
              "      box-shadow: 0px 1px 2px rgba(60, 64, 67, 0.3), 0px 1px 3px 1px rgba(60, 64, 67, 0.15);\n",
              "      fill: #174EA6;\n",
              "    }\n",
              "\n",
              "    [theme=dark] .colab-df-convert {\n",
              "      background-color: #3B4455;\n",
              "      fill: #D2E3FC;\n",
              "    }\n",
              "\n",
              "    [theme=dark] .colab-df-convert:hover {\n",
              "      background-color: #434B5C;\n",
              "      box-shadow: 0px 1px 3px 1px rgba(0, 0, 0, 0.15);\n",
              "      filter: drop-shadow(0px 1px 2px rgba(0, 0, 0, 0.3));\n",
              "      fill: #FFFFFF;\n",
              "    }\n",
              "  </style>\n",
              "\n",
              "      <script>\n",
              "        const buttonEl =\n",
              "          document.querySelector('#df-1bc53f42-b2db-40b2-a2cc-b9c83f86422c button.colab-df-convert');\n",
              "        buttonEl.style.display =\n",
              "          google.colab.kernel.accessAllowed ? 'block' : 'none';\n",
              "\n",
              "        async function convertToInteractive(key) {\n",
              "          const element = document.querySelector('#df-1bc53f42-b2db-40b2-a2cc-b9c83f86422c');\n",
              "          const dataTable =\n",
              "            await google.colab.kernel.invokeFunction('convertToInteractive',\n",
              "                                                     [key], {});\n",
              "          if (!dataTable) return;\n",
              "\n",
              "          const docLinkHtml = 'Like what you see? Visit the ' +\n",
              "            '<a target=\"_blank\" href=https://colab.research.google.com/notebooks/data_table.ipynb>data table notebook</a>'\n",
              "            + ' to learn more about interactive tables.';\n",
              "          element.innerHTML = '';\n",
              "          dataTable['output_type'] = 'display_data';\n",
              "          await google.colab.output.renderOutput(dataTable, element);\n",
              "          const docLink = document.createElement('div');\n",
              "          docLink.innerHTML = docLinkHtml;\n",
              "          element.appendChild(docLink);\n",
              "        }\n",
              "      </script>\n",
              "    </div>\n",
              "  </div>\n",
              "  "
            ]
          },
          "metadata": {},
          "execution_count": 9
        }
      ]
    },
    {
      "cell_type": "code",
      "source": [
        "# Amino Acid Frequency\n",
        "from collections import Counter\n",
        "\n",
        "# Reading our fasta file\n",
        "quiz = SeqIO.read(\"sequence.fasta\", \"fasta\")\n",
        "# Freq\n",
        "quiz_dna = quiz.seq\n",
        "quiz_count = Counter(quiz_dna)\n",
        "quiz_count"
      ],
      "metadata": {
        "colab": {
          "base_uri": "https://localhost:8080/"
        },
        "id": "WneRVj_atZcn",
        "outputId": "b4533de0-dc06-42ac-fcce-b4f3ac19cfd9"
      },
      "execution_count": null,
      "outputs": [
        {
          "output_type": "execute_result",
          "data": {
            "text/plain": [
              "Counter({'M': 1,\n",
              "         'R': 2,\n",
              "         'K': 6,\n",
              "         'D': 1,\n",
              "         'L': 10,\n",
              "         'S': 2,\n",
              "         'P': 4,\n",
              "         'V': 7,\n",
              "         'E': 1,\n",
              "         'N': 1,\n",
              "         'Y': 2,\n",
              "         'C': 1,\n",
              "         'Q': 5,\n",
              "         'G': 1,\n",
              "         'A': 13,\n",
              "         'H': 1,\n",
              "         'T': 2})"
            ]
          },
          "metadata": {},
          "execution_count": 10
        }
      ]
    },
    {
      "cell_type": "code",
      "source": [
        "# Plot the Amino Acid\n",
        "import matplotlib.pyplot as plt\n",
        "plt.bar(quiz_count.keys(), quiz_count.values())"
      ],
      "metadata": {
        "colab": {
          "base_uri": "https://localhost:8080/",
          "height": 447
        },
        "id": "yyeQRo6auxrG",
        "outputId": "507429da-a357-4aa6-cfd3-874825d60d1d"
      },
      "execution_count": null,
      "outputs": [
        {
          "output_type": "execute_result",
          "data": {
            "text/plain": [
              "<BarContainer object of 17 artists>"
            ]
          },
          "metadata": {},
          "execution_count": 12
        },
        {
          "output_type": "display_data",
          "data": {
            "text/plain": [
              "<Figure size 640x480 with 1 Axes>"
            ],
            "image/png": "[encoded data removed]"
          },
          "metadata": {}
        }
      ]
    }
  ]
}