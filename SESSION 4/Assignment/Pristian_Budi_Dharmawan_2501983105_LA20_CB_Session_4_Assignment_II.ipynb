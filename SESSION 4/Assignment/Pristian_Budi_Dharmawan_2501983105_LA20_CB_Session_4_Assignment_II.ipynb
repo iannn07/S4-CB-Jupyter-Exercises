{
  "cells": [
    {
      "cell_type": "code",
      "execution_count": null,
      "metadata": {
        "colab": {
          "base_uri": "https://localhost:8080/"
        },
        "id": "kjawfCJXO5Py",
        "outputId": "6de514ab-88a7-48f6-e12f-be810f8fefd7"
      },
      "outputs": [
        {
          "output_type": "stream",
          "name": "stdout",
          "text": [
            "Looking in indexes: https://pypi.org/simple, https://us-python.pkg.dev/colab-wheels/public/simple/\n",
            "Collecting biopython\n",
            "  Downloading biopython-1.81-cp39-cp39-manylinux_2_17_x86_64.manylinux2014_x86_64.whl (3.1 MB)\n",
            "\u001b[2K     \u001b[90m━━━━━━━━━━━━━━━━━━━━━━━━━━━━━━━━━━━━━━━━\u001b[0m \u001b[32m3.1/3.1 MB\u001b[0m \u001b[31m51.5 MB/s\u001b[0m eta \u001b[36m0:00:00\u001b[0m\n",
            "\u001b[?25hRequirement already satisfied: numpy in /usr/local/lib/python3.9/dist-packages (from biopython) (1.22.4)\n",
            "Installing collected packages: biopython\n",
            "Successfully installed biopython-1.81\n"
          ]
        }
      ],
      "source": [
        "%pip install biopython\n",
        "from Bio.Seq import Seq\n",
        "from collections import Counter\n",
        "from Bio.SeqUtils import GC\n",
        "from Bio.SeqUtils import MeltingTemp as mt\n",
        "from Bio.SeqUtils import molecular_weight"
      ]
    },
    {
      "cell_type": "code",
      "execution_count": null,
      "metadata": {
        "id": "1MMKme8VO5Pz"
      },
      "outputs": [],
      "source": [
        "def at_content(seq):\n",
        "    result = float(seq.count('A') + seq.count('T'))/len(seq) * 100\n",
        "    return result"
      ]
    },
    {
      "cell_type": "code",
      "execution_count": null,
      "metadata": {
        "id": "E6_IRV4WO5P0"
      },
      "outputs": [],
      "source": [
        "generic_dna1 = Seq('ATGATCTCGTAA')\n",
        "generic_dna2 = Seq('ATTAAAGGTTTATACCTTCCCAGGTAACAAACCAACCAA')"
      ]
    },
    {
      "cell_type": "code",
      "execution_count": null,
      "metadata": {
        "id": "s5cvwbkMO5P0"
      },
      "outputs": [],
      "source": [
        "def get_metrics(seq):\n",
        "    freq = Counter(seq)\n",
        "    gc = GC(seq)\n",
        "    at = at_content(seq)\n",
        "    melting = mt.Tm_GC(seq)\n",
        "    mt_wallace = mt.Tm_Wallace(seq)\n",
        "    weight = molecular_weight(seq)\n",
        "    result = \"Nucletide Freq: {} \\nGC: {:.2f} \\nAT: {:.2f} \\nTemp by GC Content:{:.2f} °C\\nTemp by Wallace rule: {:.2f} °C\\nWeight: {:.2f} g/mol\".format(freq,gc,at,melting,mt_wallace,weight)\n",
        "    print(result)"
      ]
    },
    {
      "cell_type": "code",
      "execution_count": null,
      "metadata": {
        "colab": {
          "base_uri": "https://localhost:8080/"
        },
        "id": "LvxwtjcMO5P0",
        "outputId": "fe190827-c652-41f2-99c6-137245540484"
      },
      "outputs": [
        {
          "output_type": "stream",
          "name": "stdout",
          "text": [
            "Nucletide Freq: Counter({'A': 4, 'T': 4, 'G': 2, 'C': 2}) \n",
            "GC: 33.33 \n",
            "AT: 66.67 \n",
            "Temp by GC Content:23.57 °C\n",
            "Temp by Wallace rule: 32.00 °C\n",
            "Weight: 3724.39 g/mol\n"
          ]
        }
      ],
      "source": [
        "get_metrics(generic_dna1)"
      ]
    },
    {
      "cell_type": "code",
      "execution_count": null,
      "metadata": {
        "colab": {
          "base_uri": "https://localhost:8080/"
        },
        "id": "jvcInymYO5P1",
        "outputId": "44a9c8c0-993f-4244-dd80-19dd28ab20b1"
      },
      "outputs": [
        {
          "output_type": "stream",
          "name": "stdout",
          "text": [
            "Nucletide Freq: Counter({'A': 16, 'C': 10, 'T': 9, 'G': 4}) \n",
            "GC: 35.90 \n",
            "AT: 64.10 \n",
            "Temp by GC Content:59.24 °C\n",
            "Temp by Wallace rule: 106.00 °C\n",
            "Weight: 11975.70 g/mol\n"
          ]
        }
      ],
      "source": [
        "get_metrics(generic_dna2)"
      ]
    }
  ],
  "metadata": {
    "kernelspec": {
      "display_name": "biopy",
      "language": "python",
      "name": "python3"
    },
    "language_info": {
      "codemirror_mode": {
        "name": "ipython",
        "version": 3
      },
      "file_extension": ".py",
      "mimetype": "text/x-python",
      "name": "python",
      "nbconvert_exporter": "python",
      "pygments_lexer": "ipython3",
      "version": "3.10.9"
    },
    "orig_nbformat": 4,
    "colab": {
      "provenance": []
    }
  },
  "nbformat": 4,
  "nbformat_minor": 0
}